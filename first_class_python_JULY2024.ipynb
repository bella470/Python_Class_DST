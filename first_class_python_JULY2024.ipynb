{
  "nbformat": 4,
  "nbformat_minor": 0,
  "metadata": {
    "colab": {
      "provenance": [],
      "authorship_tag": "ABX9TyOK2ADWU1LXrhAnY8Nn+PsT",
      "include_colab_link": true
    },
    "kernelspec": {
      "name": "python3",
      "display_name": "Python 3"
    },
    "language_info": {
      "name": "python"
    }
  },
  "cells": [
    {
      "cell_type": "markdown",
      "metadata": {
        "id": "view-in-github",
        "colab_type": "text"
      },
      "source": [
        "<a href=\"https://colab.research.google.com/github/bella470/Python_Class_DST/blob/main/first_class_python_JULY2024.ipynb\" target=\"_parent\"><img src=\"https://colab.research.google.com/assets/colab-badge.svg\" alt=\"Open In Colab\"/></a>"
      ]
    },
    {
      "cell_type": "code",
      "execution_count": null,
      "metadata": {
        "id": "LU1LVP5dnMgu"
      },
      "outputs": [],
      "source": []
    },
    {
      "cell_type": "code",
      "source": [
        "print ('hello')"
      ],
      "metadata": {
        "colab": {
          "base_uri": "https://localhost:8080/"
        },
        "id": "SVhh9cewvd00",
        "outputId": "c534587f-94ab-42e9-c53d-90682d79ca88"
      },
      "execution_count": null,
      "outputs": [
        {
          "output_type": "stream",
          "name": "stdout",
          "text": [
            "hello\n"
          ]
        }
      ]
    },
    {
      "cell_type": "markdown",
      "source": [
        "# **Data Science**"
      ],
      "metadata": {
        "id": "igCjplTF2m6a"
      }
    },
    {
      "cell_type": "code",
      "source": [],
      "metadata": {
        "id": "PEtX_WD42974"
      },
      "execution_count": null,
      "outputs": []
    },
    {
      "cell_type": "markdown",
      "source": [
        "Big Data\n",
        "\n",
        "[link](www.linkedin.com/in/ain-nabila-mohd-rozi-397626208)\n",
        "\n"
      ],
      "metadata": {
        "id": "yxwTXlqX3AiJ"
      }
    },
    {
      "cell_type": "code",
      "source": [],
      "metadata": {
        "id": "v-pDy49A34OL"
      },
      "execution_count": null,
      "outputs": []
    },
    {
      "cell_type": "markdown",
      "source": [
        "![download.png](data:image/png;base64,iVBORw0KGgoAAAANSUhEUgAAAX4AAACECAMAAACgerAFAAABJlBMVEX///8AAAAUlJC9jEEjHyBQrKn0+/tOp6SBf4D39/cVDxDEw8P8/PzQ6egAkIwaFRbz8/MdGBktKSrt7e3n5+eTkpLJyMgIAADDkEGura3k4+N4dnclICE6NzhXVVURCgxPTU3V1dVubGyJh4ipqKi3trZiX19FQkNQST2DbkyviU+fnZ2Cwb+9vLzZ2dmxgz0ACRE7LBQVFh6geDyXd0kyLi9VUlOGZDRKQTm6jUlkSiJANSRsXEQcFAmSeE9pZ2cmJSAAhH8RFB45nZqhyMjB2dlrr62lgUpBNiUACxGiglBvVjaHa0FSQi98uLbE29uXwsI6MCleTDJ4Xjx1X0MqIBJfTz5NPSSLck0eJSszMS0BECCAYDNMQjRdVEaTbjc1OkFGNRRnXcd3AAAgAElEQVR4nO19CXvcNpI2IXEkXhJvskk2m1eTTMw0rVXMjjXjSUfWlTi2LB/JepzxZvf//4mvCiDZt91KMtn9do3HbnUTII4XhaoCUChw3L1CMkr9+73xOfxhwcp0VRra5n93Pf5vhrER8RDccvLfXZP/g0EOic7ToJNR8t9dm/9jwZ+pCP7pq1en8Eflg9/IgZRPJxEXPu8VxA3f2qBtjdkSttbTnGexexWVpew+Us/NQbSHEpL96Y9nD1+fYj9E4XjnwhfC+NO9lsv46Xj3z1zO2y/JWt2Ctv1atkP/c56oCFuQqSquqtlXK9u5Zsu5dRlwpr3T27LqItN5+uLrwf7+4ObVU8qBmvvrQNnwk/BPCMKf8L8FfuLQv35UrUYRhr9Zpp+GX8mIyMXTTfhrM1JxNqHwKUaxY72UUbmUWUYslls42+V1L2J855t9GgZnzw3KgYb3lQA2CT8Fv2wg/ElIfhP8Q8Tfasga/G6UwqcZk+CT8JujCOAfuZs6ypDcMbSiAfy1wt0JPEA/IPEK/DFSrhi76Q6vW4aOfOf12WC/DYObFxT/Uvv02wvBI/qn4PdVHeDXhmr0m+DXYURqsbRO/S6PXTKLpE/D7xEe4VddYT2O8Ah/JMUiYKruCH8W6SvwS9FIgV5x1V3gHwPnOf3wdQ8+7YBf30MHRM5uFZjX41PwO4CTzPmE/23w85LDWTq/CX51pnCGvgv8LoVfV0frcS38vGGKU31X+At1DX7EQYz1j8HvJ55MmVwW8Yuk33GgFzpP2bRY515i7VIPVuxHw++FXwX4h5vhT/9Y+Ef/QviVpEob4hIaD/DzD/dXw+DrUwq/WUiEuGE6rj/ZsM/ws/Bx+JNxOiQRVfN5txCRZ3xx1qPej4KzxxSpkM6EdcklQ8H7uCz+DD8L2+H388JQI4nvQ1SI9hz+wdmb5x0bOnusE8cP1XlaKVKbYLKdD32Gn4Wt8FshUduVhdNT49Wroc5LBaTu4L95RciHmx7+aFyqvA7pjNPTdj1CIsXWqdxn+FnYCn9CKIanT395/+bXB4P9m+9PeegPBv/gwesTAuHkRzoAAH5e0vnTF5jum7fG06d0OszrW8n/M/wsbIUfpexp8+LHRz2zoUs8CD9Mtp4C9K8/QAf841ELP6R+QXkRfJw9+vEFTsdIzm0Jn+FnYSv8MVDz84dnc/m6fwb0D/Dv7z/4HnD/7tv9s+eg6Zy8OGPwn75e0IUGZw+fnPJSsK0efwT8CejCorx5urcz/IkNs85xtZlL3g/+2oYKefbH1s52ht80ANCV+RXSP8L/HaD/5AFd88EB8MUA4T99saKN/vqU18tt9fgD4K8IcZQRKTdmsyv8vkpKzSNkw7SWuyf8Gk8MUyYfXcvYGf4JqDyPz5YR3Qf8Af5nhLx61nXMI56QM4C/5TwL4WvoQH6b+vkHwF9ExDYlNdpYxK7w1yRqLOjIzZOee8FvEkn3x8Qt/gj4bZzfLhM/hLMPp1/sf0v4m/maz6MfyIOzx09f0/ilvoK5sLuN+a/Bv85DPgX/pCwtJQuFja3dFX6lmuacFhSbV2zvx3y86ZjThI9uP+0Mfwns5M1gAfuzb//65hnwn8cA//cLw+LBdwB/+GJ/8Oyvb749W+iCwWtg/ttWMlbgF7NyDeNP8n4Ngd8yhP4/F70aqJ1PH3Q8/+abJ/9APZO8G5w92QT/28H+E5qgefLrzT7rgcG3T0H32VKPRfhNC3iAZMwJUKPrS9vgr5cHitz+FedgJqvwa86EBVwX3Ah/T7ILuYjb4Pfx51b4E8TXbwucLAyrZHf4c9xUadF/95NOoT0BVf/5/hnA/7cV+OEPoP8DmwrwPz1jMQ8R/prbGBbgT8IJZxmk6FGtS7rzswX+fIlpiUK70VHP90TG8Qr8dSkRFqbcRvhFe9rmMt84nQy1LfDnDdkOvzLGpfex0RZI+s02Lcg6+KFXEu2j8GcSr//cwv+C5vMY6PoF0v9gA/wDQP/nm1+fhDTpW0b+D1/xWMVPwD8huFpXy3278yHZDr8lkGYBfjkmrOEez7dg+ilZgd8sJVwFgbAF/mRERi3kXeZWQLbCP5K2w1/PcD+l1mF+ykrs2j+JsVUMfhUwajdoN8Nvotb/z0GH70/vnuEC22DwM+K/AX5EnyY4e/bl3/voH09pSz8Ovx2Rln+0LQ8ixq/X4RerELSLHn4/M0jb8AnRDSoJ7BJSrMBfE14fChUE21uH34RMVYavSVRaKa2KIZfN8OcJYLgFfg2zQnzHUEaY0RIpV0uEIdGjHn6XdyOdbcNtht/HWWy7oHNzSn7s5Sng/3wd/rcwD+gE7v6/E4MJjcE3ME3Yol5ugH+isx2bQGL60hr8/gjNW3r45caFny380CsAZlLio1X4c8I3C+rIyrTLwO1Thq/GtuC0kO6oIvxEX4bfFMikg1/Cvd5F+H36HuKbRfridCRXMWIOv69pmaqr4lb4gWB4g2E8eE7It4N9pngOAP/oP0D0DvoA8P8Hoj9oFc/Bj+Skna49w1WKzcs+6/DLqhRrDH6yGf5RBCO6h9+XdF5Se/jVkcKJocRL0hr8nquPFuTdEvxmqNJcFuAXi4hXJQr/JCybDn6lrk2c6nXwF2k6WYJfxKykFn5pYR6XAPj4z14UvTOVNns79Q9bGv6CUNl684gFZO+vvn3Uh3c4Bw6fsR9U4emY/+DRfajfb3TGKLfBDyM6iidCxOBXCoknmWxIC/Db8EYqF9IK/DJRt8I/i3gpkJtF+CsocZTE6rCVjgqD38KpcRX18LeVn8MvQP1SuVRX4RdHQOl2vgK/TPD3Fvi1qdqr/SfkH4jl305o+CFC4frDSR9+wN9R+wB3ws5ATLM3X+tbV302MJ+csDWKbfCXulqIXAc/POcnnDmcw8+J0MyKU6ar8PvAChbG4CL8vqG7HqcZc/g1JdYj0FGmPfwt9ZsSPP4I/FaoQ1liKQG+uavOLU+cSB86XKIvw+8bEk6Pt2g+E2jd6TeI4jNc1AH4/43sEOhGZEgiHC6DN0D8H1c8FUVZEL2GPoRHjPdDhBzN4YeECtSo5pQO/jFtoTWEhkPaiaqPlBr6DzgQhX+yAL9WQMc5Shu4aAF+WdWnAEIIYwdiTKT+2qCEweCnb4x0yJyzVAq/28GvsMr38Ce6DszTBOrXQAroUpawt6GmEnSn08OvsXoEqpqJW2e91Kbh+YDykn/eD/7X5IdnKAOe8rq+zf4BFVv2SsR38AfATiAA23VpDN/C3//E6E7zqQBF+hA/iYu2XoR+gHjWWQSFn4/wCUtF2nwW4JcWXmkzYOXoTPQS+rXNUYLKQmVUOplsK78A/1LpfDfVwDT4vWU+XbMhF6yaxG9ZcPZQ+j8fDB4xVn4P+JmwAK1TN7ZanwhE6kMHf4aCcylQ+FeeRQaDf/X5WnABfinaFENmCjeMCHSCvD2XSEX4N8cxzYcl400xdknBJe7GshZegjEwctfLAXISS3fJzIoOmojxn/fkh5tBC/8XHwkt/INHJzAH2H8DU17JoRltCrkwD0GrFaaSLiyHoObMYOWZkFHmKa89Xws+6Imbw1jhMvgEDe8jr0M5zpZCUKAFfTLFFgSQMJ+sD0i0anM5ok1r04ZaGEEocMEY+M/ZK6LfDBj8g+3hAYN/8A7QP0POw/NhgflkO9p/KirZ3VD1f3GookjVIbBtdsD/MdGftfDvbw0Mfoo+8H223Y65wJRD3lCI6QFjqr0FjSQjqSh6kNYf38tgV5lMRM4ab5HxO+fi5Bqnefez1fvNoR4F24wyHYlu3Lbh6S+A/3siPdgNfuA8XwDf/6V7nW4PG+vQKDMSJb5BRn0tJgRqlBEim+WWHawtAeRjxU2J9PsOmuUExl5ANm/e/OEhdck2o3y0oj1tnn/Th4eI/3d/3wX+L38AzrP/8J/9u29wx11aXy4XhxKZgLTiO6DHJSr7I6iWH0nRfaAUcK8KlIvfR7g2cWdiHG03DvhDQ0C2FVShxvnj/jJjP/vANJtPwU/IkxWRcPZ6s8WDUwiKYo+6CJ+BlxQBTDtH1S4HH7rgz2Y1Nyl+p9wwg6Lm5EK4n6H2bw1K5W1uog8CV//QLamdffmEhf/YGf42fNllgcvO+gbzc7H/+PTTT7RFuf87m7L5Q3L5nSEAdfNpZ+HwgF/R69t9rI/A34dXnX3Qc9x1Wdvy+xw2BZgGzrfYz74n5P1f29Dx/sGDm34/cZ/uRN7coKkbhb9L/Fd+YQn6AwiTVelby7IM/yeiKctOItNQsz8+/RQxSa048NukkdpkngiI1LFRP4JfCQdpEo3GcZgTlSb4jsMl40QW8T2gbJYCM3QUTsRohyV2bM/Cv1gu1gYT4HfMC5NofQ0Th35C9pOJk1hyH4HPk4RG1SxTfE5zkU0RcxQ5WqZc+6yFE64e17JFG0OTMRWwBKhePezoFmj4QcfEW83n7Mn7uAz/7fkZ9sBg/+GXP5XT+PHbs1bv71Lf8OSkM4f4Gqb+0speNMhLYsP/iUxIk9Lh4gZs2FT0MwBhSEIlhN8y/s5qFpvhpN3nssglYYJpSm0KqWv2zgyzxPwn8MUwG8IPffgWibiGDkEQS0J0n8OHIa7dOriM44ZuQu2GiENIrEL++B3zwiQJIfyMlj2jm3kwm56QyA1wRaIsaETogviHVsxQhGMNQHsjxBxj3MQysCocLZMI+MyGNiQNafgcH1m0wVQIerjD/rwjfiDhRx2Zt/A/P/0H1NTK/5P89dlg8Oi/SDwBtu788t2jB/2iA03+doH94CyAJCvw8wC/Lgm4T5VGhNfJMHB5l7hRRUCNUYlvQ5I6lEiFy39E8HGZhLg2qMXEcohEiGSAospLyVRC+HneDXD9uIOflwyPGG7oEx33TDi0WXUFMZR0ScZ2So0B+Tk1gYmJpFP44Sdxy4iP7DHRSQF5NS7kDxng6jaJ0gb/SDMlcIcIJB+FM+LyESmJqqapSgqcvfBRxvm4tgPwQ8UnFq+rQ5Ot0boBlKLahk4yV4/CHOtm2aRVTvDolt5bq73GHcT9ZfjPvv33kxSR9LN//ED+07ZwUI1O/v3b/WX49/dBV+oMVZj0XRb1E2LjGi2vOa4yjn0yqkk9IR7o334OGvgU6pOqbsWhAcrElQKgXmdGlKmnhQT15oJLDIL7HRBVBkABbLl6RFqd1QEsUsMUhr7SGG2JEq4CxyMQRGmIw3EKRB+4sSiWKjYpwMVkG5edS86G6qbwu4LEnmpxxtDnZiMYXU7tGn4ci9MUZypcDMRR5TpXEEdjAs4eDkOIamCMcZmK+6YKYacZgWZSYO9uDC2DKFGQNC3Eus1UtiUu4DJPu8c4eHZCvnuwvwI/8Pqv3/4UV7gnlyNHs+zypzcPgQ2twn9zQk661x+h9F2eZyDGfsO7nuNqVZmQUUKSHNJMYt+jE6AcaqUXZgmvZU0ZKjWRC6LFngnwa0McTCmky1R+yJXQqkqNcbl62q1wywB/4OaJYJrNkD6x+TIUOTEW+IKLgwi6InYdLUa6qwiDP+dAf7VIIyU26Goz+I0QC/B9yNdcJlCU9aEf85aHm5gAv52Tyou4MckqVnRWhBG8Uqo1pxQxlAX9yaaRtlECE9JCyWlSTnAnTiBaFP4mVlFtrnG22+3roqr/fLAGP5W2v774RQAOCP/Sp69/ZYcsVuFH44fO6HbwAkZVaK3DP5NmAL9X1AA/X+dEQFY2JrO8ITI3a4A8Ef6yEIhYRw7AX+QWwk9PpeaAcBYD344BfqEUYMa6DH9FJOBEHfzpNAUMxbIqJbMZEwa/NSSQk+hoi/ALxO7g18hUw94d8hXOTAqIcUMtcMuEo/AXFcA/CTlTDRtm0JoJI1JPhRDgN8MqDOfwFyMbC8uAv4HIIeoED1EA/CIRStyOAw7Hz/VFsmRNtbTmA7Opf/7b6d//fvJfz3sT6FX49x+8B+nbpv8aF9GzNfiHEz2sJMoXcdfDcyMkw7GrEhVqPBtVJIsBflKNcU6rFASNYgF+meBEQiaxkk1tUgHzEUfBBNBaht8yVGBnLfxaaXvATcRyUpBxI3fw68Ne1+/hnzTDDn7OMGpkKkOdGrgUahQBR3RANiUUfhSX1CwGdAE2hcwCm2SNjPDXrjzj/R5+SchRMPmqNBVp3cYM/gTYKmaOZrX8Nx2c3+FC52b4cQS8O/lO5R/NNdA16n9+Qjob3cEbXEZy1uDnZSEqdAo/7sF5JCxrhD9skBnOQB6EQP1A6yH+FgsUoQi/M4c/rqV4GEA7mtK1GfzFrIWfcwzoRg3g98vcahrMRSzlLAqnfgc/z0OeirgEv1VIcdzCPwNNTEb4y5mGBBoOVUg6loCNL8HvuO3ozgKHNEbdAPwJKQ1VRvg1GAgcgQpAWiWlbzhDtWHMx3PLhoqskdobOFDy/9sW6t/ff/f+5Oebmw8n3/cdsAo/6k2dHfQD4P3Rsg03g3/iRDzTCqYUfmpnD3x0jDWcxRxoIWMUWRJuXc/hN+fMpzQLFQUz7nXMGPxh2cEP9BclCH9NvBp3OlKEH9TGwOzhxzzrYon5mJWrdvCPSUwgcjhEQQfMJ59SNwB5NBSX4DdBojL4U1+HtxH+MZFUN6fwW8QGHUuiNq8ZE4PJUHIo/JUrMbOHRKLrPW143Nur7a/w/uf/OEH7/sHg2QvyuO2AVfifLOhNyPqH2ib4QelYhH/MyaUFotck2PwYh/QYWlFTtMSe+WhUjw1Q9JZY+wC6SK7LYQs/AoGajwCRICsRfteTXacOG2Q+JnG9Dn4QvR6KXm+J+q1I7+CXVTVUuAXRi+BNM5D74mQRfmsOvzaKUs7Qay5tRJkIjPpRf040ymMp/IEBU4SJifDPRthkxsEWDlUs6i5z+AH8705+7qxv929enLx/1M9653r/I9LrTXTZwV0xU8YCaz7nggjhrxFuwLlCrMdEUErQCYuYc9AQQQg1zgiBh46QDuuQKAoonqaMimeGLQP4bVUD0WCKU+gXCv+EjDi7gcmDYzL4M0MRR0TUylwMid8yHxm0o6lfN3pNqdI2QyAK4itFROH3qEUCUuxwCPUZAfxyQmbmbGrNiJbTUwFjBr/fwz9TICOAPwGVgauHsWKS0vKJXQF/b9AFhIDCRFDNjEz80FC0EpBgtpIi7ll/6CAExf/F/sqsd//dq5MvbvYXws2rkw+P+u2WbqHz8Vxvomp/s4z+uNQbb8SHiUMA/mSqGoHilGo5K4mHURWZBs0wU0qSVyAIxzo/AjVenfraaKgC9EQNeWnIeQ2fcWUkOIYOzVMLSDKaDWO0d9MNmOKUQLXTIT8b6WUIKQDKdFjKqVEXUGBg6GUNUrRpGHQ5MUbApEZRIQLLETOIBkkZIliVyk9nRirgGw2fQu/wZQ71FLiqVKHLOC2G2SMlq8aoPCLbUGFBb5zZUA9S1ShGalzyWc7zMWeHeliD4lkaw3EBdStA/ZipQ9qJ1MChmy6dfQe6Y2dO9VML/4MHD5aX3AYDeNTC/7xL/WGuN6GdP5odLAWBuGzRQTRcExi1C1OTCXHZooNLMuD3BhokC8SDyXyawVyfMyAiMQlddMD3+QS3Z0ZAfwHM3keQDqaamEWJxO+SxgYFZcYRF57hY0wRQq6TauTD7xDP6js0J+YPRysJqDcOLhcAwcJAchH5AtlyQDOYhfDHD0g4giwBZKg0jZmieahLIszEpisgZgGlQnY5FNcY9OUhVABbDBnSYiNCigR+6zB/T4ekNRWe4tnoDrhHJ2hWzgJZEr3rgcJ/Mk/9Q6d03qDcXbW2SjzPg/9ji5M90MLg10TBT3hUjyFK8bzc82TceHTgLybn4MHYFDENqj1ZZeGpe2+C+5b+2JMhXZ7TLHLcsIQck8nEFrmx14Y2xdj3HQULnNDyOceuWrFkVjCLNyFK5LxckbEu0JEZLsvRDBx8Q6zH+cQZV6wIGgP9I45psbRGDueJMhYAReV9pTzWDJButFgH6qaZbYQDSRh9Ou6C9B08evX3NpCd4CekS/+hV1pxwZP/7HJyxxCA9vP0UT+/asPbXeH/tn+lzYDK3d08Zf2vDnTJS/SqT5gEWOgX4/Tt1/PwEO3Kf9gJ/p9PyJcgaxde/hnPAg/Xi3F2sUywrPvsOm4J8237hb0sXCpMkoUHYu13EfSl9X24uls0EWmOYlCuOYPT4qVtpcVFXrpmgQvi0dLai7ZWju1SQ4fOOcbTH6lV/5vdLB1A2/9ycPbiafc2zSdad/YpNjvsaVdhGLDqVetm6hiRLs8lRDvrSqrnOJSso0UlmT/zBE4UCJ2Z+fSpkqpDOhmymYK8gKNI+0WcqWGbuU0FWUakNWsFmNCOOavbqV4oTwvYuoPBG0smAdZo7Uwe5KHPXZM8fU1PzT3Z1c7nZ4r/h9N5DjrZwHryzduPziI9JZKkMj9uCVmHf4azhZ6+TEyQkqhb8nHwoDSdqDp0csRpRWL3x79S0PMtUDpwqi9QCxWYCUuIkDKjthcOmRtnjGnZHiRolWcypLMEN3bXtvcTwlt2B7/QNzExZqzoOgmWmgJq1lrDlHHI80PeGLYLoD+Tk7e7W7kh/e+fUQdvBmYxLDfRebbQJ9qcHsrFTvHLadwewWnrvNA5MtY76Ig9oSQOGnRnUyHGZKJRs3KTqpWOVIlxawqUNDhqlHFeuiKqwFgTM6uGUw2N8elcqnbZ7ih+pDRLK7CN9ox+3J6BFzaZbwdZb1YQdtp21R0Q0WqbLHECLd7AlznT931rolLOg3i+7Wa9777cHrpZb8t/AH8jsSCjjaYb+Xz901non2msiQsHTMWSZ2voLfx5jz9McSHdhNnPKR7zNahZaU9b2njU8hEddxRDGeGicHgG7XlFGUvYtxOXoTpmwMhEwkw9l+4pFQqU1Jrq2x0P9VwJuk0Wwk10VZP+NJsRUc5iBk3XTeIkX+4x39hmg1CHOuU8D+5t3/+Y/HBG+Y863Wo1U3fwixlZcCxakFroBZrmFC0xt/Bb8xHj0zVCk6kTAaHviEmwaFA0cpnQJWFVF3SZDIeSErQ0aQUz1htEglom07glVcFV6aEjhN/GddiKcngn7hJg2dCxSbKxcdZ8WLOlNWuYbjVf0eLZFt0i0XXKeQbvCPnmt9j37wP9S1utBbV2AHtRuUgPYpGH/Y+6GnenXxnd2nNjUavsdhWhpsN2EEwmi4gULVslY7FlvFEKM9tVF09e6C3hmBj0NGKA2YfxJoi1MtroWJVVIp87FqaVHm86k5/QGtexvQV939Db2dcztnJ5L+qnp1uQ/6jllnqKKsJfF/qKK5dJuclaraLwi8VcamlxB/9YGi0KM7noutNpO2uun+gxdOlqgz1jmUQ05t5ggumMcOPBwLiYLb3j26K11Y/Mpg5MhhECr20jTiWNOv88Z4SECP9PO8N/Qr6jGtIZzHc3aT0YRF3A9ZHp6mw42Wj7mNPlcH8+MBB+hVWULGnfGiFkJc+5lAk3+bfxpBUBKuj912DuHFlbgHG0fBIFxHxRktk9LOQcg2wcV13wUethywaDx4ScLUyA3/1AVg+Wkr8/m890B89QTaVv4rneLexHVDMuNphNyGJFkhVtgglbn+qf9VDr6QXgZ+1YPUBjTVeV8Tn8qaFRkutysVDR8lb1l3quE4/nmq23oOSnK8u3ZpqAXrupmSuh9/0kftx99+K53jftuV4W3p2Q96vHqt+Tk2fzfRlQgX6dn+sdbj7XK0aV2Zq4ozcHqyMdbVUzoK3yqSGGP6yqrpEMfjNsDdTTbsxUuahly0XOffXYQ4C+COVZSbMB7QkkkLdigQSP1a4SsjufWBC0Smk1AZ1beYX+++REUos/laINtTQ/1/vrSW+wQ8+uPHm3Cv+zx0Tq8R+8Jqdfs2+PUPncTP0a6U18QfHWplu4YLuXYTZUUFek70wGv9yJro5gcwB0RMKlPiT9xDKHKZUGE9O0Vb79kZSsww+6Z3cMOFmIGzeFNmLFVRv9tPjbvLcsZLzpoMmGgAZQp9/0Ph2+v2EGDUjZTzb4dDgDXRNX6XCf5dmrPvoNyN4tviT9ecOUiVFtc5ZXSHRaIhbMRdScTWmxsZBM7NiFkqlywi97WBr2bNahhfr0HwtoX9BxlfmMuyCtqm8uHsxRRh1fm5BNjHv8yRMGFSFzMpvLXX+dQQQSf/q2Bfh7cqL/9POXX5+dAfo/72+Af0DxPzv7+u2Hn1RCOhPdD+wk/abgLHLcjGxTAQqVtUkIV3pxGX5lYXVlvlzWllCGcxV1A4OWW+3An/N2UOzbuUizKEj6WW69Kt1pMLepGV29OJ9fIMaqNz2w131O4SGLpuUmT1q15v17iv5GhzKA/8n7zonNu9ahzCnPbxtu+SIB2cY2NcCLWP950Ufh5zbpz9qQUWOKqo2COCabXMslrTOYxROAk6idliypwVnHXXykCWd1HVGM17WZnq7ZXow/JzPcmW7fG62DhPagv3QgP3v++j0D9glw/w3ulM4e0c1dCCePXz/vNlqefcSb1Xgxwty6GSPGEj2En6wOd61cgn/pRg7NpPTfsXBqQahhE/1wA/xiQ/VZf+n+Caf1bbi0INmfkbWinMqFvK1U4vl9QcshyxjdO+srjGk3WLRGDdf6DaddvY3hYP/s4bvXf/sbsKMfN/pye/xmcAbxr799eNYbXqFhMzoX2RjGm/tFW6XiLKIDXevXcmo2T1OmS8xn3u5EiBsIMNH3CGMWlLk7aGnmh2vc2TG5coiFOsvXf8hDZnuyYaYw1swhxsndeaZKInRxz1lzR6m5UGpaWTa/7qnSLFuXh4ogrXu+QOa/5MkQpCrI3x+foifDVwumtzc69WT4nMUvvIDWPe62FaWqZ59LXKWbO7JdCFypJCyLTqxNpJZoZpv7z5YidWgYKqg0WkFat0xoquC6Nqixq7qhZoy5GZrZceOVhfcJwZXnLFqjS9MYi3RhVpkyhcFzI0tgd8sAABf+SURBVJVVSmqWhKiSJCSquZKopKwWfXCxtSqnmxJp6rrHwdxdOOLVY/0a/Xh+C8K1810+QI+2D9CP55vVvYAH73l+q0+HXoxNFhHJWkkn0taIaINKqG8QrYXfiYjUUETwTpv14BGdlzKlIkhZFlvp9/mAurtqFKtZpcGchFzmYlWqkuv9uGmTGglkhqWs7RQ5pLBaZ3O0IugZRmCrpnE/wxOxHzyHC9DmEZpg1otbMwnVsyc4HsfYLnt9ql/jvPfrFURfP0UvtmcnhBiPKPhnX/KENMyL7ZuVrvoavflsk6njtsS8mWtA5qzdiBNjykwqGSHk0RI4b6/PCeNk2npf2iTUxcIII12PCZvRxRR+04A/SiwZphVKi8yt0qCVqujRrvWI0C/+BUS1ccXUAfhH8zewcpYsThu/nOs4Zog9VEZQG0XvDpGYMyjSjBzOCS3ODJDzuMOuvn7m4k0rtZ6iEVGUoWeJdSaB682/7i+xkx+ZD+fBtz+AjP35wWBwQ5053wyYD+cFc3QUAM9P+e3uLceUGSpjd24A5ITtKV+zoK5+fOT3OVF1ozbbjaUM6uk3rU1lp8T1GwrwkuVbSal32m7MiBHNoGDmpiZAiHMa1ARc7LVdk80Gar7fKeMkA/cRfT5F0ZP36VOU+BOuAvjH/dbPhBKGI5WJU0iq3kxExapCoidO7BYBXVhUZqADxBKfOUkiV6lBRsM4sXHX0ZFUnh5mWN+NRYsH/ud/Puo9o1JzKebBnLpufvr8DRr/oLFn68H8TWfdMDh79M8v4NFW1g+1NiZ+PiWSypYNlAlw6lIKoIJZFKGPFW8I9K1MJTvSqZuWTM5hGLtlFVMOoqSE7vQqY3oyJbNgzFD60kK3lWR1y7GY00AHgLQJ3zZU9EI6G06IWDMN0Cb9bI3IEzVWYEBwgd6tZudDYGXWlAh5MzNxg6hVtgpGYfR8Viq4UFf0XVO4hERR5DKNoSqZjyxMA88Cjp7pgm4bjyqVH87c4brq5xDqvp8fPn7764P99ny02vrv33/0HdNEv6c+OxF+FfHH0fL1r29f8afUgb+7VaP0ia5CfcYBSMppEIwMAlqJ7UqqGpGZqofTIdH1siqBClM0fHR1SYrIKIXat6TiwLhIq3ToRinuco2cmOAc1QlDx0Ai1zypVS0a1guFB3xIUuPAFtKYJ2pOqtopYy6JWJV6/gsCIR2WIlBtXeS6qgpJ4pVkmPKFGoWSRHINOOaklZZN6bfUAHouKPO6rkdNAqKTBP6opCWbIYwzbUaohwsyoou3Nno75wS1wUu3Nu17+3x3b8jp0/cvXr/+Hlh5k6ot/IOzt0j6XzIRDPCrAu7PQLoXzdNunz3afpmXEkNPgjJSN/AXmqQKJnUFGLnGWAEiityshIag8LRGxA3zMFLdmagkQtFNsdDjXSS5o9CNm9JwyRQaWMyi2Ofg/UCI+5XnmAE0gm5zGldCHz8R9nZKJDT3S6jYNO2W9YiCK4VxgcDV3sj0oOPdiOhpjf4JbYuPYs5SQW1nbMw0VHZrrjjGfRYxCJtQwPKcROFE5uaYaWDaGDTicDZZ1BgEoqpAhZsmjUo+k7pbc2AUIOkb/uLdLTePP3TWnvTulomkY7r2Bbw/J/3IIkjiEh3J2MGpsiswkVUHgodnfYKolOkIpeuympebnBWMVs7hiymOZIFLGiMTnSIwRTyZiqqrFuPA7NZrFMaKZDxFw5kVjRuNMZlgoCbqIJDarGP8BZnfkjcuGFtxAxqLFwb4sgjCE7T2dqoRqryrZ/OGKua8lmZW0d0AvqVCbdF6KMGp22xUFM3WpTp6Z1TU3oijhv7yzUXzgPDLnMy30AMDCYPqE3aF/Za6k29ZKjfrDYOnruYPHXvFZkzr3qgEoduo5HxmP2tsu8qBXvDTUQqwj/nup0nJ1pw4K9SZgMYotSp+Ero4Sjd4jfczCeSDX5JwExJVv0e3ZQbKqmMl2aiJIlVycecni/j3G+B/OKSLOzLvAu+WwpFd/8tusc7JJ26n9DduZCjBgovuRXfbbN7ndypaxox4aDALd70ZrVma34s1045D4OmrA93MQtwunoRkumaOYuZc65MLMxxtsjVZDL5sFylyBXpr3fPV+RX1Wci2A6tZYTs7XVv3yaBtvAcbqbObGS+Nja415qw15mGStBtYAhXYSgtnsWp8ULVy13bnq8Ygc9b2nX2ZMnaFsxaXok1Hl5ZnIaJNKL+C/Ir1LjSn5nzAzz66ULpSTWr+v3xr4ODh648sbf7GYNqbV8/FhY3YhW52vH6GYVP4J4QEIqdVrGnmlKrv/bq0hz4LkOX3Wz6ssAmZGwN7JGqURf/vimxXMMm0qIt0LV7kZUm0YlKQ0xl0UhKyaVfRnPO3unSb3TlFwq6LfbQI/3O80Uj/DTf2chMQmRstBHzbMFocgE8seePr/cyLPdVMikLvdxStgGJaTwlQuM9UOuDPVJo68ynU0KGzBq8tne0iJsOoneQqMIeSQH8cLTCOahQPgxQ3n22gNWFhzd8ZrhA/XeXU7GGkU/1o3AkWsT1D2S39KZUhRTmXBWa21bnYUhDobV7zazMHXzNz2q2+sT4SFKBQl6xPjM0MFJhuMXwmmMLicrLdQSiiawwMTjrJZKerfVIySS7iyqiGyiZnS60uk83BZKZuYregmaFJJ2ilbBVM8Uag7gCJ+vpc0GQzEITsq6/XMDi6Dlcg/7HpcRYzRgQlja0FlcRl+ws28xfMKULsZ5QXBWztKZkSdGSuRQSY1G63Y9no/5M//YVyoMHDH3/RqcvQ33C1Fl6xbVprF72D+tiMe7zrkGRL9yXbPYQ5o9jZ8pqwtrpxKetEaoktCHqO4VBmWXfrwDIZVaBxxu04q72xh+WIRkx/K3W1JvFVglW3HKCVyDMNkoYoKhLieui6t8YObPV5J2TECRMAm80BEugvy5kSVaI3cYs5p+3qxMwZsQurv78Z7D9iN6lJ6W93I7jGGscL4HNUSzAXAV1UAoEbF7H9sVELTCRyy06KyCTqIjQ62DtbOxApLsxD1i9lpzb9SZbGRb5aUS+KwtEoVGG+l6ANYu3g9E4UwjoILU0IgjmhmC1r0OROochIGEqq7u5knrLSpLGKJzD0pz++pnxnvpb3RwRlyz1oG4NV1x81bnLQD8/cNk7xVms651lFGGyFQjM31ckmLgSyTC248Kd8WpYqAZ72K9f6dKcgZujfnqcT3Gj4P9dPmCZ73h+kBm8KtR0I1f3JlwXNkX/73MgvKAfiVX2Nd38Of0aYhBGvu/GnTFs+h39VqNzhb9J3Poc/Jlif+c7n8Dl8Dv/fhcu/fA6L4eDPhf/q+HNYCHt/MvxHx3ufw0L4k+E/+Az/UvifSf3HFxcXe5uSXnz8pT5N931juPjoz0+81n5edAX8Pnr603n/TrW6EjnOvF5Le3wtbn/n+JrjDuGVC+4Qv19uT2neLuZ8qB3uVKcLDSt0qODnsXllXdJMLi537b1NVb5Yhz9LqmK2fROrCvpzzooQK0kcm1VoikVci4VQBwX6Kw5H4y1Xct/tBL+IAF1y0FAqn/bwL/16ecQk1t5e93ev/b63d35EATm+NeG/cnu8t5h0uc0XewtR11qfdC3PxSyuTQo0zfnOxMGJ7+Hbe0vv3Af+2zWAxJGDtqn2TDaLwE7lsZDmtWCbaWDbSWJzVeRUkyTFzUzFbMS09iottrwqyQR08WxP6NG3ONu4HK1c7FC/40sTkx0DnBeX2tHt8fHdxe3t3q1p3l7dHR9eHbyE6LvDK60bSpcQc3xoKgdI1cdXL4/vROi5i7vrI0rnEA0/kcQv6P9r5Xjv9uAIKOEYUlxegjZ2e3R0fXuIP6/aStwdHdwBPNeXB1eA9PVL8/IryjiPNaQg7W7vDgq4uHt5wGmMH11gx5u394P/cg0hy7YdjktSbTRJk7Iustw0RJv3RmIzKQDcKptmXmEyFzqNGXN+yo3M8ZgrDLvUNIMbC3kZ5/XGBemdWP9FS7oXF8fm0d2VcnisQesvuctLUbneE4/uXpp7F6IITxgTAQivuNuLqwPGB6y7OxH6BygLn3fRxzCWrrmvjg85wOz8ir19y13dacrdOcv78Bp+WhT/Y8jskrs7P1CuLpVLmu6Ijdzjl9Bbd9rxrYZoH10eHd3tAVfCcYm5cLf3of/jdYRq2xnhxW1ikQvmyJrZuRlmeVClXGmOQoWz85zkhZbRbTlDTB3b42Irt2V7ZAp1hrtncobZbED/4HAX4r/mcFjeffXVxeHV8fmedngIQFwDpDDSL15enZ8fm9fX4uHx8RGl9ksTuurq5fnd0TntPM00cZDR53vcXhct3p4faXfnV5fnLy+vtb3z87uXFzBIjkFUwD+AlDs2b8/P9xTahy8vzs+PbvcA8uOrqwsRRiD2HyXYl8coBeDPJRRzrt1SrgRD9VCBTG/vo1lvIH5OnHLVLPWzWe7bZqbZ9iidyMFItjlByWy6fz+rnUKgJkqp4heBxgkaF8xMeZaZ1A2Vgx5iN9nr7MT5gdYAvKODA+567/bu6ujo+NYCcryivOLCPNAg5haIbe/CpL1pIRe5BIpmrP+ae3lx9BJzuMP+2rNuWfTR3eHR5eUF8DXt+pKDbGAYWSipzT3M7PjOOhQPDg40jsJ/fXd5pR0yYO9uTexmkUYA2z9HCQSckcoa6DkKuXl4h5kemPdA/y+b5OPK7tvCT2frsYn1Ttx0sHc3ykD+AHCcXwCpXx4eA2sG6I8pq768ulDu7nBcvLw8Pj5UMD/aCSB2z5k+A3wfYlAFQpYAFN5FX12+vAVMQZ6YF1dHmMs17VIAj/69uro+oHlTsnx5eHxogQCgnUy755oBe3x9cAyD5sK83gOJgpR/fIV14YD9fAWv78787z3ltX7f7VYvdx2X1hEyGvHoUDw8PwRBAAR8fAUUdwvjAXgICldkG5R4gbdD5yAfoFon5c3wcQSiGCgXeqmLvjyyzu8s1IpMZNTn18rF3QGgCawdRP35LXd7qF2f7zF90rw83zt6ef6SDaBb8QKYHxP0x4cHyP0Pxb1DGA7H0EHH5t35hWWe35nH54fcura8Ff2j34XmfcNHFPGVih1qwAaso8u9IwX+WFSRP4SRfQXdciseaEcXe9wFA5rOBQ4OxNtOL9w7APxgYNx+ZSLlXnfR0Hd38P+WCklgYQegwVxYBwcvXwJgpnhggTC5grxfMgbPHZgvuWsqUyGfIxHStUL1QlMQdg3hhoTK5d4VJAYtDHMTd1OssYiLPxf9r3aXScfAem8v9i6OL1D83l7c0ere3VJNHKLgxy3KCCbIIeYr4FaH7bC/pZPe2+tD1D3hB80EeTy+RpVNkLMXt3fwMvz5is4oIAnyFsj7uq0CxENOX6HOifR8C1l09b+93qNPacTeHbTr9u4CM4W/u9P+9Z86373aReFfqF3b2GM24eq+z6OO5w+6L8dd37WpumT9i4uvtQXQTxhd58d0ErE069o7Xky+WLe+Yu2v7sfOs67ji6s/EfuDo7/8zqWRf2k4vhQPxKPfsXZwz+JgMvknkv7B5V/uORf/s8PxNSgsf0oVcVD+5WoZ/IOjf1m4urq7+GM2Jv5XhL3Dr67WCP/gL4efw+8N1xBub2+/2houL1/iVHITe/gcfnf4F3Huz+Fz+Bw+h8/hf2kw0yDIPI1T7AC/oANp+BKkOZekeIQFHnJmMOb8FB8Loojp7Em3XjqrOD/Ae/FmY24c0De5mibNRFHApDIeLMnwFAj15jvG48wTmiKtrQBPgThBQc+4e1heTo8vJgHzn7NwiYKPh+F8oUhlhRPH3Y6OltEDc1Ckg7cc2CLWCH4LI6EzxdawMLTKN2mp9OztrEBHbg79TY+72PROXLOrMeSQjXDB10SX/Gba7mBYaYVH+TxOTG0F4nLOnOXQOrxaL/W0jLbK4WTMdUxvBRAKrIc18ziBFlYlNC9WHEc9XRg6meIFY4ZBjwvO4Iuh23hSE7AlUQgfAZdAOsMITTF2DUPtz7+SGZdIROZEvGaVH0a6gddboh//WDObyDAiMuZMnUCNI1yINlUswtYNSTKipEYPDhXhQ7ynlwsIpLCpR9OA3bghLJw1daBM05BCPJpmGm77NCH06JRMIFu/wRPAeHIvl6TQddttBxNr7koybSqEBEo0GtfQ8AplbBOiYNBDRz7UysAbMjlZjUJX8jifHyFG7dUKNVa+ptfSuZCfjhfe2Qq9MTgjYzOE9hqqh95HjSGJTS5R9TCCNuArjcFH/LDQYnQq0R9VBmhFa0omSkEszQp5n0uJBkFEv/YzbuzqJdRKgDcyER6jQ0FNs6SwtXWG+iRDNVQUrJM2IYKGd3JVNKkZlqKWkEIxDV0XRepT0SOqUXOi6YehaCqJBP3qhj40H1AX8Lyejf77RcI80wjugss216aX3CUkVsywO+ybRngZKBSplooTqTGFH8pLlJzeyUnhF0TNi6B7iI31UrhwKEIrcy4nY1pRvLxMUtHDhx6bmgwtNksXc2igYgV6eCo6+AN0iy7QC5YV36Dw442THFe6mlkOTYpcRXJNC4Ao0W0P+jFC5/mmNiZjKMwhU63oycqHWGVGZIC/tmq8cTklDgSRm0ghb6bNsIM/SBwnwdsXLKt2u90XhJ83gAQo9Th0VMgkg6R4eW1o+g4ZAfxDV6DwK6OI3XioUefWCH9Gzz9D1TghGhomhX9M7BLvTVyFXyZG5pjosKWF31Sn9DS2TEK9zoySwS8zUuY66hdMa4yjgwi0XtzUjcc1+gAmNrQU0w1jG0cRwO9buVoisXHUW4HfxI6Tb4Cfd22rhV8EgkjUAvpsKFPkKuJZPsJfkcZGp//s7oLWQVdGFg7P+yScxYCmWEhGM8Szr6lEqFPwSRSQPEzDDn58PAX4VaPhe2ejCL+exnyyBD+6EUoRJCPkwwlnDuMikg2AP4kCkUJn4q3CFH4B/WzR9gokJ0I1hMFR6Ap14L8Kv2IbBB3D9PB7ZJIgQ5DJbJiX04Axn3zpzLEJLCbUywQZKaGX59RTFUa2yOXoKwgrjqXjFZ4+DzXWQxketOdI/Aabra7DPxu5k4bBz42iZAxgmyX6VSI1HkNpGj0QOTGA+sZ+C7/HMhWBJ/f7gQB/MRIsvBzUY47hgPplWQbqJw6Jpars4E/hMaX+vJx7A0L4VQESRovwC5CUUn9u4CUmJl9AMQh/RtKqxAO2c/gDet52AlkKhJuSAnhTTcoqdYN1+DnNlDNSaloHfxxllW746Jh2OnKFHn4cYN0pT5PMxhE6WAU+S5sA2aC3JLz7O6MVhZKDygAy8PVybDCXnW0OlPq9jvp9Cr+L8GcOKVvqx0syYnThhtQvU+q3BUIPH4vWJAWIluBfog6/PeiKd7Mq6EoK4GcxE5KUapT01M+kPzqT1YzeFRmFHzB0pUX4WTHA+7ka71g3QX7ZRJ0pCrpi4aNUWYBfRtcsSklP7XO1pDY1F0S6pCOqeBv4Ivz0NsWm8bWQZ8+IqkooJqBIAWRcyuCvdeBcfucw34RKOXjzdOtwAN4KmQvOvG2GyUO19GgG8E8BKhh//rAR8Qp3ZZn3c+hnbwJI4PHgIIpa+M0QmCs6bmg9lVSU7UNPEb3mtGEpLsPvLLgxXIBf5JzIsAB+qiEh/DYxRIQ/Qs2npFqbiDfvTEjntYpqPgHnh0isPfxT1LxMDe8yRw+Ppj5CYVaAMMtM05+6Vgc/ZAxyaCRMyUxB+KGXGh9Yi2aZFY4Ht6CaHAMto06/Zphhowqo4gK7Mk3HMKDIcU6GVgs/tH0UhN0QRfjhCfL+mKq7XOxi9ASyG8GDGV7Aa1pWSTQLHbrZqOfY0IaQ2Ez0+j38I3izcR0Kv6m6LfzQE8gqzVJHiDwKv4l3z9sA2hRSbIffaj1ZAJsChpSFNieUEEKBc8I6CUGtKjgf75cN8WlZi7MYUgtN27YhiHV0e+w1WEBCM3No0tjSpljrWTPRygD9JwSiQP0MjUFyaCN6tTS+ambDiEc/GzZ0rFJOLYd6LvTLKWdjVRpGokkIRY4NKYKJgTbCCMMqSpxKCEadGLmJ+QN/QydKIrCSpp8a4M2s5qiprYa+lYD6LkkovSZYUSDZlDpDrZrcLFO8uAgvPYIc8Pyyj35MrN4xkzlTpQZAFDHPMdTIpIecnZAq1QVFzuY8dKCBz8RsKPEwK/ApLhOjbcmw5R3/D65UjW2OwTIOAAAAAElFTkSuQmCC)"
      ],
      "metadata": {
        "id": "HqfBgeay36Et"
      }
    },
    {
      "cell_type": "code",
      "source": [],
      "metadata": {
        "id": "Du7RjgVE4Y4u"
      },
      "execution_count": null,
      "outputs": []
    },
    {
      "cell_type": "markdown",
      "source": [
        "\n",
        "\n",
        "1.   List item\n",
        "2.   List item\n",
        "\n"
      ],
      "metadata": {
        "id": "xI18QxEP4lkB"
      }
    },
    {
      "cell_type": "markdown",
      "source": [
        "<img src=\"Image title.format\" alt=\"Text to image\" style=\"width: 200px;\"/>"
      ],
      "metadata": {
        "id": "f8iDmTvM_0mf"
      }
    },
    {
      "cell_type": "code",
      "source": [
        "a = 10\n",
        "b = 20\n",
        "\n",
        "c = a^b\n",
        "\n",
        "print(c)\n",
        "\n",
        "print(\"AISHAH\")"
      ],
      "metadata": {
        "colab": {
          "base_uri": "https://localhost:8080/"
        },
        "id": "ul27XhPf_76n",
        "outputId": "bccd6579-a837-4633-c1ef-75a8d6565f9e"
      },
      "execution_count": null,
      "outputs": [
        {
          "output_type": "stream",
          "name": "stdout",
          "text": [
            "30\n",
            "AISHAH\n"
          ]
        }
      ]
    },
    {
      "cell_type": "code",
      "source": [
        "c = a^b"
      ],
      "metadata": {
        "id": "_zDjFLbeAy00"
      },
      "execution_count": null,
      "outputs": []
    },
    {
      "cell_type": "code",
      "source": [
        "print(c)"
      ],
      "metadata": {
        "colab": {
          "base_uri": "https://localhost:8080/"
        },
        "id": "vIny1Y-PA6_A",
        "outputId": "e2db0e52-6f8a-401b-b742-9c1b890ad88a"
      },
      "execution_count": null,
      "outputs": [
        {
          "output_type": "stream",
          "name": "stdout",
          "text": [
            "30\n"
          ]
        }
      ]
    },
    {
      "cell_type": "code",
      "source": [
        "import pandas as pd\n",
        "\n",
        "df = pd.read_csv('NFLX.csv')\n",
        "\n",
        "df.head()"
      ],
      "metadata": {
        "colab": {
          "base_uri": "https://localhost:8080/",
          "height": 206
        },
        "id": "K4f84ZrhA8v1",
        "outputId": "96aaaa2f-d9eb-4156-a6eb-5d8ebd94a9bf"
      },
      "execution_count": null,
      "outputs": [
        {
          "output_type": "execute_result",
          "data": {
            "text/plain": [
              "         Date        Open        High         Low       Close   Adj Close  \\\n",
              "0  2015-12-16  119.800003  123.000000  118.089996  122.639999  122.639999   \n",
              "1  2015-12-17  123.970001  126.349998  122.419998  122.510002  122.510002   \n",
              "2  2015-12-18  120.849998  122.190002  117.919998  118.019997  118.019997   \n",
              "3  2015-12-21  119.510002  119.589996  115.660004  116.629997  116.629997   \n",
              "4  2015-12-22  117.300003  117.430000  114.860001  116.239998  116.239998   \n",
              "\n",
              "     Volume  \n",
              "0  13181000  \n",
              "1  17284900  \n",
              "2  17948100  \n",
              "3  11670000  \n",
              "4   9689000  "
            ],
            "text/html": [
              "\n",
              "  <div id=\"df-3366720e-58d3-4bb3-8a5f-1042139c4457\" class=\"colab-df-container\">\n",
              "    <div>\n",
              "<style scoped>\n",
              "    .dataframe tbody tr th:only-of-type {\n",
              "        vertical-align: middle;\n",
              "    }\n",
              "\n",
              "    .dataframe tbody tr th {\n",
              "        vertical-align: top;\n",
              "    }\n",
              "\n",
              "    .dataframe thead th {\n",
              "        text-align: right;\n",
              "    }\n",
              "</style>\n",
              "<table border=\"1\" class=\"dataframe\">\n",
              "  <thead>\n",
              "    <tr style=\"text-align: right;\">\n",
              "      <th></th>\n",
              "      <th>Date</th>\n",
              "      <th>Open</th>\n",
              "      <th>High</th>\n",
              "      <th>Low</th>\n",
              "      <th>Close</th>\n",
              "      <th>Adj Close</th>\n",
              "      <th>Volume</th>\n",
              "    </tr>\n",
              "  </thead>\n",
              "  <tbody>\n",
              "    <tr>\n",
              "      <th>0</th>\n",
              "      <td>2015-12-16</td>\n",
              "      <td>119.800003</td>\n",
              "      <td>123.000000</td>\n",
              "      <td>118.089996</td>\n",
              "      <td>122.639999</td>\n",
              "      <td>122.639999</td>\n",
              "      <td>13181000</td>\n",
              "    </tr>\n",
              "    <tr>\n",
              "      <th>1</th>\n",
              "      <td>2015-12-17</td>\n",
              "      <td>123.970001</td>\n",
              "      <td>126.349998</td>\n",
              "      <td>122.419998</td>\n",
              "      <td>122.510002</td>\n",
              "      <td>122.510002</td>\n",
              "      <td>17284900</td>\n",
              "    </tr>\n",
              "    <tr>\n",
              "      <th>2</th>\n",
              "      <td>2015-12-18</td>\n",
              "      <td>120.849998</td>\n",
              "      <td>122.190002</td>\n",
              "      <td>117.919998</td>\n",
              "      <td>118.019997</td>\n",
              "      <td>118.019997</td>\n",
              "      <td>17948100</td>\n",
              "    </tr>\n",
              "    <tr>\n",
              "      <th>3</th>\n",
              "      <td>2015-12-21</td>\n",
              "      <td>119.510002</td>\n",
              "      <td>119.589996</td>\n",
              "      <td>115.660004</td>\n",
              "      <td>116.629997</td>\n",
              "      <td>116.629997</td>\n",
              "      <td>11670000</td>\n",
              "    </tr>\n",
              "    <tr>\n",
              "      <th>4</th>\n",
              "      <td>2015-12-22</td>\n",
              "      <td>117.300003</td>\n",
              "      <td>117.430000</td>\n",
              "      <td>114.860001</td>\n",
              "      <td>116.239998</td>\n",
              "      <td>116.239998</td>\n",
              "      <td>9689000</td>\n",
              "    </tr>\n",
              "  </tbody>\n",
              "</table>\n",
              "</div>\n",
              "    <div class=\"colab-df-buttons\">\n",
              "\n",
              "  <div class=\"colab-df-container\">\n",
              "    <button class=\"colab-df-convert\" onclick=\"convertToInteractive('df-3366720e-58d3-4bb3-8a5f-1042139c4457')\"\n",
              "            title=\"Convert this dataframe to an interactive table.\"\n",
              "            style=\"display:none;\">\n",
              "\n",
              "  <svg xmlns=\"http://www.w3.org/2000/svg\" height=\"24px\" viewBox=\"0 -960 960 960\">\n",
              "    <path d=\"M120-120v-720h720v720H120Zm60-500h600v-160H180v160Zm220 220h160v-160H400v160Zm0 220h160v-160H400v160ZM180-400h160v-160H180v160Zm440 0h160v-160H620v160ZM180-180h160v-160H180v160Zm440 0h160v-160H620v160Z\"/>\n",
              "  </svg>\n",
              "    </button>\n",
              "\n",
              "  <style>\n",
              "    .colab-df-container {\n",
              "      display:flex;\n",
              "      gap: 12px;\n",
              "    }\n",
              "\n",
              "    .colab-df-convert {\n",
              "      background-color: #E8F0FE;\n",
              "      border: none;\n",
              "      border-radius: 50%;\n",
              "      cursor: pointer;\n",
              "      display: none;\n",
              "      fill: #1967D2;\n",
              "      height: 32px;\n",
              "      padding: 0 0 0 0;\n",
              "      width: 32px;\n",
              "    }\n",
              "\n",
              "    .colab-df-convert:hover {\n",
              "      background-color: #E2EBFA;\n",
              "      box-shadow: 0px 1px 2px rgba(60, 64, 67, 0.3), 0px 1px 3px 1px rgba(60, 64, 67, 0.15);\n",
              "      fill: #174EA6;\n",
              "    }\n",
              "\n",
              "    .colab-df-buttons div {\n",
              "      margin-bottom: 4px;\n",
              "    }\n",
              "\n",
              "    [theme=dark] .colab-df-convert {\n",
              "      background-color: #3B4455;\n",
              "      fill: #D2E3FC;\n",
              "    }\n",
              "\n",
              "    [theme=dark] .colab-df-convert:hover {\n",
              "      background-color: #434B5C;\n",
              "      box-shadow: 0px 1px 3px 1px rgba(0, 0, 0, 0.15);\n",
              "      filter: drop-shadow(0px 1px 2px rgba(0, 0, 0, 0.3));\n",
              "      fill: #FFFFFF;\n",
              "    }\n",
              "  </style>\n",
              "\n",
              "    <script>\n",
              "      const buttonEl =\n",
              "        document.querySelector('#df-3366720e-58d3-4bb3-8a5f-1042139c4457 button.colab-df-convert');\n",
              "      buttonEl.style.display =\n",
              "        google.colab.kernel.accessAllowed ? 'block' : 'none';\n",
              "\n",
              "      async function convertToInteractive(key) {\n",
              "        const element = document.querySelector('#df-3366720e-58d3-4bb3-8a5f-1042139c4457');\n",
              "        const dataTable =\n",
              "          await google.colab.kernel.invokeFunction('convertToInteractive',\n",
              "                                                    [key], {});\n",
              "        if (!dataTable) return;\n",
              "\n",
              "        const docLinkHtml = 'Like what you see? Visit the ' +\n",
              "          '<a target=\"_blank\" href=https://colab.research.google.com/notebooks/data_table.ipynb>data table notebook</a>'\n",
              "          + ' to learn more about interactive tables.';\n",
              "        element.innerHTML = '';\n",
              "        dataTable['output_type'] = 'display_data';\n",
              "        await google.colab.output.renderOutput(dataTable, element);\n",
              "        const docLink = document.createElement('div');\n",
              "        docLink.innerHTML = docLinkHtml;\n",
              "        element.appendChild(docLink);\n",
              "      }\n",
              "    </script>\n",
              "  </div>\n",
              "\n",
              "\n",
              "<div id=\"df-b5c31968-80cf-4980-b961-9dc3d35776ac\">\n",
              "  <button class=\"colab-df-quickchart\" onclick=\"quickchart('df-b5c31968-80cf-4980-b961-9dc3d35776ac')\"\n",
              "            title=\"Suggest charts\"\n",
              "            style=\"display:none;\">\n",
              "\n",
              "<svg xmlns=\"http://www.w3.org/2000/svg\" height=\"24px\"viewBox=\"0 0 24 24\"\n",
              "     width=\"24px\">\n",
              "    <g>\n",
              "        <path d=\"M19 3H5c-1.1 0-2 .9-2 2v14c0 1.1.9 2 2 2h14c1.1 0 2-.9 2-2V5c0-1.1-.9-2-2-2zM9 17H7v-7h2v7zm4 0h-2V7h2v10zm4 0h-2v-4h2v4z\"/>\n",
              "    </g>\n",
              "</svg>\n",
              "  </button>\n",
              "\n",
              "<style>\n",
              "  .colab-df-quickchart {\n",
              "      --bg-color: #E8F0FE;\n",
              "      --fill-color: #1967D2;\n",
              "      --hover-bg-color: #E2EBFA;\n",
              "      --hover-fill-color: #174EA6;\n",
              "      --disabled-fill-color: #AAA;\n",
              "      --disabled-bg-color: #DDD;\n",
              "  }\n",
              "\n",
              "  [theme=dark] .colab-df-quickchart {\n",
              "      --bg-color: #3B4455;\n",
              "      --fill-color: #D2E3FC;\n",
              "      --hover-bg-color: #434B5C;\n",
              "      --hover-fill-color: #FFFFFF;\n",
              "      --disabled-bg-color: #3B4455;\n",
              "      --disabled-fill-color: #666;\n",
              "  }\n",
              "\n",
              "  .colab-df-quickchart {\n",
              "    background-color: var(--bg-color);\n",
              "    border: none;\n",
              "    border-radius: 50%;\n",
              "    cursor: pointer;\n",
              "    display: none;\n",
              "    fill: var(--fill-color);\n",
              "    height: 32px;\n",
              "    padding: 0;\n",
              "    width: 32px;\n",
              "  }\n",
              "\n",
              "  .colab-df-quickchart:hover {\n",
              "    background-color: var(--hover-bg-color);\n",
              "    box-shadow: 0 1px 2px rgba(60, 64, 67, 0.3), 0 1px 3px 1px rgba(60, 64, 67, 0.15);\n",
              "    fill: var(--button-hover-fill-color);\n",
              "  }\n",
              "\n",
              "  .colab-df-quickchart-complete:disabled,\n",
              "  .colab-df-quickchart-complete:disabled:hover {\n",
              "    background-color: var(--disabled-bg-color);\n",
              "    fill: var(--disabled-fill-color);\n",
              "    box-shadow: none;\n",
              "  }\n",
              "\n",
              "  .colab-df-spinner {\n",
              "    border: 2px solid var(--fill-color);\n",
              "    border-color: transparent;\n",
              "    border-bottom-color: var(--fill-color);\n",
              "    animation:\n",
              "      spin 1s steps(1) infinite;\n",
              "  }\n",
              "\n",
              "  @keyframes spin {\n",
              "    0% {\n",
              "      border-color: transparent;\n",
              "      border-bottom-color: var(--fill-color);\n",
              "      border-left-color: var(--fill-color);\n",
              "    }\n",
              "    20% {\n",
              "      border-color: transparent;\n",
              "      border-left-color: var(--fill-color);\n",
              "      border-top-color: var(--fill-color);\n",
              "    }\n",
              "    30% {\n",
              "      border-color: transparent;\n",
              "      border-left-color: var(--fill-color);\n",
              "      border-top-color: var(--fill-color);\n",
              "      border-right-color: var(--fill-color);\n",
              "    }\n",
              "    40% {\n",
              "      border-color: transparent;\n",
              "      border-right-color: var(--fill-color);\n",
              "      border-top-color: var(--fill-color);\n",
              "    }\n",
              "    60% {\n",
              "      border-color: transparent;\n",
              "      border-right-color: var(--fill-color);\n",
              "    }\n",
              "    80% {\n",
              "      border-color: transparent;\n",
              "      border-right-color: var(--fill-color);\n",
              "      border-bottom-color: var(--fill-color);\n",
              "    }\n",
              "    90% {\n",
              "      border-color: transparent;\n",
              "      border-bottom-color: var(--fill-color);\n",
              "    }\n",
              "  }\n",
              "</style>\n",
              "\n",
              "  <script>\n",
              "    async function quickchart(key) {\n",
              "      const quickchartButtonEl =\n",
              "        document.querySelector('#' + key + ' button');\n",
              "      quickchartButtonEl.disabled = true;  // To prevent multiple clicks.\n",
              "      quickchartButtonEl.classList.add('colab-df-spinner');\n",
              "      try {\n",
              "        const charts = await google.colab.kernel.invokeFunction(\n",
              "            'suggestCharts', [key], {});\n",
              "      } catch (error) {\n",
              "        console.error('Error during call to suggestCharts:', error);\n",
              "      }\n",
              "      quickchartButtonEl.classList.remove('colab-df-spinner');\n",
              "      quickchartButtonEl.classList.add('colab-df-quickchart-complete');\n",
              "    }\n",
              "    (() => {\n",
              "      let quickchartButtonEl =\n",
              "        document.querySelector('#df-b5c31968-80cf-4980-b961-9dc3d35776ac button');\n",
              "      quickchartButtonEl.style.display =\n",
              "        google.colab.kernel.accessAllowed ? 'block' : 'none';\n",
              "    })();\n",
              "  </script>\n",
              "</div>\n",
              "\n",
              "    </div>\n",
              "  </div>\n"
            ],
            "application/vnd.google.colaboratory.intrinsic+json": {
              "type": "dataframe",
              "variable_name": "df",
              "summary": "{\n  \"name\": \"df\",\n  \"rows\": 1007,\n  \"fields\": [\n    {\n      \"column\": \"Date\",\n      \"properties\": {\n        \"dtype\": \"object\",\n        \"num_unique_values\": 1007,\n        \"samples\": [\n          \"2019-08-23\",\n          \"2018-06-19\",\n          \"2018-08-31\"\n        ],\n        \"semantic_type\": \"\",\n        \"description\": \"\"\n      }\n    },\n    {\n      \"column\": \"Open\",\n      \"properties\": {\n        \"dtype\": \"number\",\n        \"std\": 103.3054224736868,\n        \"min\": 80.57,\n        \"max\": 421.380005,\n        \"num_unique_values\": 965,\n        \"samples\": [\n          295.23999,\n          196.649994,\n          97.330002\n        ],\n        \"semantic_type\": \"\",\n        \"description\": \"\"\n      }\n    },\n    {\n      \"column\": \"High\",\n      \"properties\": {\n        \"dtype\": \"number\",\n        \"std\": 104.85134917606165,\n        \"min\": 84.699997,\n        \"max\": 423.209991,\n        \"num_unique_values\": 973,\n        \"samples\": [\n          122.449997,\n          331.440002,\n          100.190002\n        ],\n        \"semantic_type\": \"\",\n        \"description\": \"\"\n      }\n    },\n    {\n      \"column\": \"Low\",\n      \"properties\": {\n        \"dtype\": \"number\",\n        \"std\": 101.45861102484218,\n        \"min\": 79.949997,\n        \"max\": 413.079987,\n        \"num_unique_values\": 975,\n        \"samples\": [\n          121.059998,\n          358.890015,\n          95.709999\n        ],\n        \"semantic_type\": \"\",\n        \"description\": \"\"\n      }\n    },\n    {\n      \"column\": \"Close\",\n      \"properties\": {\n        \"dtype\": \"number\",\n        \"std\": 103.20378485652908,\n        \"min\": 82.790001,\n        \"max\": 418.970001,\n        \"num_unique_values\": 979,\n        \"samples\": [\n          99.5,\n          321.160004,\n          97.379997\n        ],\n        \"semantic_type\": \"\",\n        \"description\": \"\"\n      }\n    },\n    {\n      \"column\": \"Adj Close\",\n      \"properties\": {\n        \"dtype\": \"number\",\n        \"std\": 103.20378485652908,\n        \"min\": 82.790001,\n        \"max\": 418.970001,\n        \"num_unique_values\": 979,\n        \"samples\": [\n          99.5,\n          321.160004,\n          97.379997\n        ],\n        \"semantic_type\": \"\",\n        \"description\": \"\"\n      }\n    },\n    {\n      \"column\": \"Volume\",\n      \"properties\": {\n        \"dtype\": \"number\",\n        \"std\": 6398966,\n        \"min\": 1616300,\n        \"max\": 58410400,\n        \"num_unique_values\": 1004,\n        \"samples\": [\n          6309400,\n          16494600,\n          7605200\n        ],\n        \"semantic_type\": \"\",\n        \"description\": \"\"\n      }\n    }\n  ]\n}"
            }
          },
          "metadata": {},
          "execution_count": 9
        }
      ]
    },
    {
      "cell_type": "code",
      "source": [
        "df.head(12)"
      ],
      "metadata": {
        "colab": {
          "base_uri": "https://localhost:8080/",
          "height": 425
        },
        "id": "GA23jmEUFDaD",
        "outputId": "59f4eed7-a058-4836-8ffd-5020da0e8aa4"
      },
      "execution_count": null,
      "outputs": [
        {
          "output_type": "execute_result",
          "data": {
            "text/plain": [
              "          Date        Open        High         Low       Close   Adj Close  \\\n",
              "0   2015-12-16  119.800003  123.000000  118.089996  122.639999  122.639999   \n",
              "1   2015-12-17  123.970001  126.349998  122.419998  122.510002  122.510002   \n",
              "2   2015-12-18  120.849998  122.190002  117.919998  118.019997  118.019997   \n",
              "3   2015-12-21  119.510002  119.589996  115.660004  116.629997  116.629997   \n",
              "4   2015-12-22  117.300003  117.430000  114.860001  116.239998  116.239998   \n",
              "5   2015-12-23  116.910004  118.559998  115.779999  118.160004  118.160004   \n",
              "6   2015-12-24  118.220001  118.800003  117.300003  117.330002  117.330002   \n",
              "7   2015-12-28  117.260002  117.349998  113.849998  117.110001  117.110001   \n",
              "8   2015-12-29  118.190002  119.599998  116.919998  119.120003  119.120003   \n",
              "9   2015-12-30  118.949997  119.019997  116.430000  116.709999  116.709999   \n",
              "10  2015-12-31  116.209999  117.459999  114.279999  114.379997  114.379997   \n",
              "11  2016-01-04  109.000000  110.000000  105.209999  109.959999  109.959999   \n",
              "\n",
              "      Volume  \n",
              "0   13181000  \n",
              "1   17284900  \n",
              "2   17948100  \n",
              "3   11670000  \n",
              "4    9689000  \n",
              "5    9324300  \n",
              "6    3531300  \n",
              "7    8424300  \n",
              "8    8159200  \n",
              "9    8149700  \n",
              "10   9273000  \n",
              "11  20794800  "
            ],
            "text/html": [
              "\n",
              "  <div id=\"df-1f694c34-deed-4d09-9249-ebf87fc5039d\" class=\"colab-df-container\">\n",
              "    <div>\n",
              "<style scoped>\n",
              "    .dataframe tbody tr th:only-of-type {\n",
              "        vertical-align: middle;\n",
              "    }\n",
              "\n",
              "    .dataframe tbody tr th {\n",
              "        vertical-align: top;\n",
              "    }\n",
              "\n",
              "    .dataframe thead th {\n",
              "        text-align: right;\n",
              "    }\n",
              "</style>\n",
              "<table border=\"1\" class=\"dataframe\">\n",
              "  <thead>\n",
              "    <tr style=\"text-align: right;\">\n",
              "      <th></th>\n",
              "      <th>Date</th>\n",
              "      <th>Open</th>\n",
              "      <th>High</th>\n",
              "      <th>Low</th>\n",
              "      <th>Close</th>\n",
              "      <th>Adj Close</th>\n",
              "      <th>Volume</th>\n",
              "    </tr>\n",
              "  </thead>\n",
              "  <tbody>\n",
              "    <tr>\n",
              "      <th>0</th>\n",
              "      <td>2015-12-16</td>\n",
              "      <td>119.800003</td>\n",
              "      <td>123.000000</td>\n",
              "      <td>118.089996</td>\n",
              "      <td>122.639999</td>\n",
              "      <td>122.639999</td>\n",
              "      <td>13181000</td>\n",
              "    </tr>\n",
              "    <tr>\n",
              "      <th>1</th>\n",
              "      <td>2015-12-17</td>\n",
              "      <td>123.970001</td>\n",
              "      <td>126.349998</td>\n",
              "      <td>122.419998</td>\n",
              "      <td>122.510002</td>\n",
              "      <td>122.510002</td>\n",
              "      <td>17284900</td>\n",
              "    </tr>\n",
              "    <tr>\n",
              "      <th>2</th>\n",
              "      <td>2015-12-18</td>\n",
              "      <td>120.849998</td>\n",
              "      <td>122.190002</td>\n",
              "      <td>117.919998</td>\n",
              "      <td>118.019997</td>\n",
              "      <td>118.019997</td>\n",
              "      <td>17948100</td>\n",
              "    </tr>\n",
              "    <tr>\n",
              "      <th>3</th>\n",
              "      <td>2015-12-21</td>\n",
              "      <td>119.510002</td>\n",
              "      <td>119.589996</td>\n",
              "      <td>115.660004</td>\n",
              "      <td>116.629997</td>\n",
              "      <td>116.629997</td>\n",
              "      <td>11670000</td>\n",
              "    </tr>\n",
              "    <tr>\n",
              "      <th>4</th>\n",
              "      <td>2015-12-22</td>\n",
              "      <td>117.300003</td>\n",
              "      <td>117.430000</td>\n",
              "      <td>114.860001</td>\n",
              "      <td>116.239998</td>\n",
              "      <td>116.239998</td>\n",
              "      <td>9689000</td>\n",
              "    </tr>\n",
              "    <tr>\n",
              "      <th>5</th>\n",
              "      <td>2015-12-23</td>\n",
              "      <td>116.910004</td>\n",
              "      <td>118.559998</td>\n",
              "      <td>115.779999</td>\n",
              "      <td>118.160004</td>\n",
              "      <td>118.160004</td>\n",
              "      <td>9324300</td>\n",
              "    </tr>\n",
              "    <tr>\n",
              "      <th>6</th>\n",
              "      <td>2015-12-24</td>\n",
              "      <td>118.220001</td>\n",
              "      <td>118.800003</td>\n",
              "      <td>117.300003</td>\n",
              "      <td>117.330002</td>\n",
              "      <td>117.330002</td>\n",
              "      <td>3531300</td>\n",
              "    </tr>\n",
              "    <tr>\n",
              "      <th>7</th>\n",
              "      <td>2015-12-28</td>\n",
              "      <td>117.260002</td>\n",
              "      <td>117.349998</td>\n",
              "      <td>113.849998</td>\n",
              "      <td>117.110001</td>\n",
              "      <td>117.110001</td>\n",
              "      <td>8424300</td>\n",
              "    </tr>\n",
              "    <tr>\n",
              "      <th>8</th>\n",
              "      <td>2015-12-29</td>\n",
              "      <td>118.190002</td>\n",
              "      <td>119.599998</td>\n",
              "      <td>116.919998</td>\n",
              "      <td>119.120003</td>\n",
              "      <td>119.120003</td>\n",
              "      <td>8159200</td>\n",
              "    </tr>\n",
              "    <tr>\n",
              "      <th>9</th>\n",
              "      <td>2015-12-30</td>\n",
              "      <td>118.949997</td>\n",
              "      <td>119.019997</td>\n",
              "      <td>116.430000</td>\n",
              "      <td>116.709999</td>\n",
              "      <td>116.709999</td>\n",
              "      <td>8149700</td>\n",
              "    </tr>\n",
              "    <tr>\n",
              "      <th>10</th>\n",
              "      <td>2015-12-31</td>\n",
              "      <td>116.209999</td>\n",
              "      <td>117.459999</td>\n",
              "      <td>114.279999</td>\n",
              "      <td>114.379997</td>\n",
              "      <td>114.379997</td>\n",
              "      <td>9273000</td>\n",
              "    </tr>\n",
              "    <tr>\n",
              "      <th>11</th>\n",
              "      <td>2016-01-04</td>\n",
              "      <td>109.000000</td>\n",
              "      <td>110.000000</td>\n",
              "      <td>105.209999</td>\n",
              "      <td>109.959999</td>\n",
              "      <td>109.959999</td>\n",
              "      <td>20794800</td>\n",
              "    </tr>\n",
              "  </tbody>\n",
              "</table>\n",
              "</div>\n",
              "    <div class=\"colab-df-buttons\">\n",
              "\n",
              "  <div class=\"colab-df-container\">\n",
              "    <button class=\"colab-df-convert\" onclick=\"convertToInteractive('df-1f694c34-deed-4d09-9249-ebf87fc5039d')\"\n",
              "            title=\"Convert this dataframe to an interactive table.\"\n",
              "            style=\"display:none;\">\n",
              "\n",
              "  <svg xmlns=\"http://www.w3.org/2000/svg\" height=\"24px\" viewBox=\"0 -960 960 960\">\n",
              "    <path d=\"M120-120v-720h720v720H120Zm60-500h600v-160H180v160Zm220 220h160v-160H400v160Zm0 220h160v-160H400v160ZM180-400h160v-160H180v160Zm440 0h160v-160H620v160ZM180-180h160v-160H180v160Zm440 0h160v-160H620v160Z\"/>\n",
              "  </svg>\n",
              "    </button>\n",
              "\n",
              "  <style>\n",
              "    .colab-df-container {\n",
              "      display:flex;\n",
              "      gap: 12px;\n",
              "    }\n",
              "\n",
              "    .colab-df-convert {\n",
              "      background-color: #E8F0FE;\n",
              "      border: none;\n",
              "      border-radius: 50%;\n",
              "      cursor: pointer;\n",
              "      display: none;\n",
              "      fill: #1967D2;\n",
              "      height: 32px;\n",
              "      padding: 0 0 0 0;\n",
              "      width: 32px;\n",
              "    }\n",
              "\n",
              "    .colab-df-convert:hover {\n",
              "      background-color: #E2EBFA;\n",
              "      box-shadow: 0px 1px 2px rgba(60, 64, 67, 0.3), 0px 1px 3px 1px rgba(60, 64, 67, 0.15);\n",
              "      fill: #174EA6;\n",
              "    }\n",
              "\n",
              "    .colab-df-buttons div {\n",
              "      margin-bottom: 4px;\n",
              "    }\n",
              "\n",
              "    [theme=dark] .colab-df-convert {\n",
              "      background-color: #3B4455;\n",
              "      fill: #D2E3FC;\n",
              "    }\n",
              "\n",
              "    [theme=dark] .colab-df-convert:hover {\n",
              "      background-color: #434B5C;\n",
              "      box-shadow: 0px 1px 3px 1px rgba(0, 0, 0, 0.15);\n",
              "      filter: drop-shadow(0px 1px 2px rgba(0, 0, 0, 0.3));\n",
              "      fill: #FFFFFF;\n",
              "    }\n",
              "  </style>\n",
              "\n",
              "    <script>\n",
              "      const buttonEl =\n",
              "        document.querySelector('#df-1f694c34-deed-4d09-9249-ebf87fc5039d button.colab-df-convert');\n",
              "      buttonEl.style.display =\n",
              "        google.colab.kernel.accessAllowed ? 'block' : 'none';\n",
              "\n",
              "      async function convertToInteractive(key) {\n",
              "        const element = document.querySelector('#df-1f694c34-deed-4d09-9249-ebf87fc5039d');\n",
              "        const dataTable =\n",
              "          await google.colab.kernel.invokeFunction('convertToInteractive',\n",
              "                                                    [key], {});\n",
              "        if (!dataTable) return;\n",
              "\n",
              "        const docLinkHtml = 'Like what you see? Visit the ' +\n",
              "          '<a target=\"_blank\" href=https://colab.research.google.com/notebooks/data_table.ipynb>data table notebook</a>'\n",
              "          + ' to learn more about interactive tables.';\n",
              "        element.innerHTML = '';\n",
              "        dataTable['output_type'] = 'display_data';\n",
              "        await google.colab.output.renderOutput(dataTable, element);\n",
              "        const docLink = document.createElement('div');\n",
              "        docLink.innerHTML = docLinkHtml;\n",
              "        element.appendChild(docLink);\n",
              "      }\n",
              "    </script>\n",
              "  </div>\n",
              "\n",
              "\n",
              "<div id=\"df-214e69a1-ae57-4863-bf24-289a6beb4944\">\n",
              "  <button class=\"colab-df-quickchart\" onclick=\"quickchart('df-214e69a1-ae57-4863-bf24-289a6beb4944')\"\n",
              "            title=\"Suggest charts\"\n",
              "            style=\"display:none;\">\n",
              "\n",
              "<svg xmlns=\"http://www.w3.org/2000/svg\" height=\"24px\"viewBox=\"0 0 24 24\"\n",
              "     width=\"24px\">\n",
              "    <g>\n",
              "        <path d=\"M19 3H5c-1.1 0-2 .9-2 2v14c0 1.1.9 2 2 2h14c1.1 0 2-.9 2-2V5c0-1.1-.9-2-2-2zM9 17H7v-7h2v7zm4 0h-2V7h2v10zm4 0h-2v-4h2v4z\"/>\n",
              "    </g>\n",
              "</svg>\n",
              "  </button>\n",
              "\n",
              "<style>\n",
              "  .colab-df-quickchart {\n",
              "      --bg-color: #E8F0FE;\n",
              "      --fill-color: #1967D2;\n",
              "      --hover-bg-color: #E2EBFA;\n",
              "      --hover-fill-color: #174EA6;\n",
              "      --disabled-fill-color: #AAA;\n",
              "      --disabled-bg-color: #DDD;\n",
              "  }\n",
              "\n",
              "  [theme=dark] .colab-df-quickchart {\n",
              "      --bg-color: #3B4455;\n",
              "      --fill-color: #D2E3FC;\n",
              "      --hover-bg-color: #434B5C;\n",
              "      --hover-fill-color: #FFFFFF;\n",
              "      --disabled-bg-color: #3B4455;\n",
              "      --disabled-fill-color: #666;\n",
              "  }\n",
              "\n",
              "  .colab-df-quickchart {\n",
              "    background-color: var(--bg-color);\n",
              "    border: none;\n",
              "    border-radius: 50%;\n",
              "    cursor: pointer;\n",
              "    display: none;\n",
              "    fill: var(--fill-color);\n",
              "    height: 32px;\n",
              "    padding: 0;\n",
              "    width: 32px;\n",
              "  }\n",
              "\n",
              "  .colab-df-quickchart:hover {\n",
              "    background-color: var(--hover-bg-color);\n",
              "    box-shadow: 0 1px 2px rgba(60, 64, 67, 0.3), 0 1px 3px 1px rgba(60, 64, 67, 0.15);\n",
              "    fill: var(--button-hover-fill-color);\n",
              "  }\n",
              "\n",
              "  .colab-df-quickchart-complete:disabled,\n",
              "  .colab-df-quickchart-complete:disabled:hover {\n",
              "    background-color: var(--disabled-bg-color);\n",
              "    fill: var(--disabled-fill-color);\n",
              "    box-shadow: none;\n",
              "  }\n",
              "\n",
              "  .colab-df-spinner {\n",
              "    border: 2px solid var(--fill-color);\n",
              "    border-color: transparent;\n",
              "    border-bottom-color: var(--fill-color);\n",
              "    animation:\n",
              "      spin 1s steps(1) infinite;\n",
              "  }\n",
              "\n",
              "  @keyframes spin {\n",
              "    0% {\n",
              "      border-color: transparent;\n",
              "      border-bottom-color: var(--fill-color);\n",
              "      border-left-color: var(--fill-color);\n",
              "    }\n",
              "    20% {\n",
              "      border-color: transparent;\n",
              "      border-left-color: var(--fill-color);\n",
              "      border-top-color: var(--fill-color);\n",
              "    }\n",
              "    30% {\n",
              "      border-color: transparent;\n",
              "      border-left-color: var(--fill-color);\n",
              "      border-top-color: var(--fill-color);\n",
              "      border-right-color: var(--fill-color);\n",
              "    }\n",
              "    40% {\n",
              "      border-color: transparent;\n",
              "      border-right-color: var(--fill-color);\n",
              "      border-top-color: var(--fill-color);\n",
              "    }\n",
              "    60% {\n",
              "      border-color: transparent;\n",
              "      border-right-color: var(--fill-color);\n",
              "    }\n",
              "    80% {\n",
              "      border-color: transparent;\n",
              "      border-right-color: var(--fill-color);\n",
              "      border-bottom-color: var(--fill-color);\n",
              "    }\n",
              "    90% {\n",
              "      border-color: transparent;\n",
              "      border-bottom-color: var(--fill-color);\n",
              "    }\n",
              "  }\n",
              "</style>\n",
              "\n",
              "  <script>\n",
              "    async function quickchart(key) {\n",
              "      const quickchartButtonEl =\n",
              "        document.querySelector('#' + key + ' button');\n",
              "      quickchartButtonEl.disabled = true;  // To prevent multiple clicks.\n",
              "      quickchartButtonEl.classList.add('colab-df-spinner');\n",
              "      try {\n",
              "        const charts = await google.colab.kernel.invokeFunction(\n",
              "            'suggestCharts', [key], {});\n",
              "      } catch (error) {\n",
              "        console.error('Error during call to suggestCharts:', error);\n",
              "      }\n",
              "      quickchartButtonEl.classList.remove('colab-df-spinner');\n",
              "      quickchartButtonEl.classList.add('colab-df-quickchart-complete');\n",
              "    }\n",
              "    (() => {\n",
              "      let quickchartButtonEl =\n",
              "        document.querySelector('#df-214e69a1-ae57-4863-bf24-289a6beb4944 button');\n",
              "      quickchartButtonEl.style.display =\n",
              "        google.colab.kernel.accessAllowed ? 'block' : 'none';\n",
              "    })();\n",
              "  </script>\n",
              "</div>\n",
              "\n",
              "    </div>\n",
              "  </div>\n"
            ],
            "application/vnd.google.colaboratory.intrinsic+json": {
              "type": "dataframe",
              "variable_name": "df",
              "summary": "{\n  \"name\": \"df\",\n  \"rows\": 1007,\n  \"fields\": [\n    {\n      \"column\": \"Date\",\n      \"properties\": {\n        \"dtype\": \"object\",\n        \"num_unique_values\": 1007,\n        \"samples\": [\n          \"2019-08-23\",\n          \"2018-06-19\",\n          \"2018-08-31\"\n        ],\n        \"semantic_type\": \"\",\n        \"description\": \"\"\n      }\n    },\n    {\n      \"column\": \"Open\",\n      \"properties\": {\n        \"dtype\": \"number\",\n        \"std\": 103.3054224736868,\n        \"min\": 80.57,\n        \"max\": 421.380005,\n        \"num_unique_values\": 965,\n        \"samples\": [\n          295.23999,\n          196.649994,\n          97.330002\n        ],\n        \"semantic_type\": \"\",\n        \"description\": \"\"\n      }\n    },\n    {\n      \"column\": \"High\",\n      \"properties\": {\n        \"dtype\": \"number\",\n        \"std\": 104.85134917606165,\n        \"min\": 84.699997,\n        \"max\": 423.209991,\n        \"num_unique_values\": 973,\n        \"samples\": [\n          122.449997,\n          331.440002,\n          100.190002\n        ],\n        \"semantic_type\": \"\",\n        \"description\": \"\"\n      }\n    },\n    {\n      \"column\": \"Low\",\n      \"properties\": {\n        \"dtype\": \"number\",\n        \"std\": 101.45861102484218,\n        \"min\": 79.949997,\n        \"max\": 413.079987,\n        \"num_unique_values\": 975,\n        \"samples\": [\n          121.059998,\n          358.890015,\n          95.709999\n        ],\n        \"semantic_type\": \"\",\n        \"description\": \"\"\n      }\n    },\n    {\n      \"column\": \"Close\",\n      \"properties\": {\n        \"dtype\": \"number\",\n        \"std\": 103.20378485652908,\n        \"min\": 82.790001,\n        \"max\": 418.970001,\n        \"num_unique_values\": 979,\n        \"samples\": [\n          99.5,\n          321.160004,\n          97.379997\n        ],\n        \"semantic_type\": \"\",\n        \"description\": \"\"\n      }\n    },\n    {\n      \"column\": \"Adj Close\",\n      \"properties\": {\n        \"dtype\": \"number\",\n        \"std\": 103.20378485652908,\n        \"min\": 82.790001,\n        \"max\": 418.970001,\n        \"num_unique_values\": 979,\n        \"samples\": [\n          99.5,\n          321.160004,\n          97.379997\n        ],\n        \"semantic_type\": \"\",\n        \"description\": \"\"\n      }\n    },\n    {\n      \"column\": \"Volume\",\n      \"properties\": {\n        \"dtype\": \"number\",\n        \"std\": 6398966,\n        \"min\": 1616300,\n        \"max\": 58410400,\n        \"num_unique_values\": 1004,\n        \"samples\": [\n          6309400,\n          16494600,\n          7605200\n        ],\n        \"semantic_type\": \"\",\n        \"description\": \"\"\n      }\n    }\n  ]\n}"
            }
          },
          "metadata": {},
          "execution_count": 10
        }
      ]
    },
    {
      "cell_type": "code",
      "source": [
        "df.tail()"
      ],
      "metadata": {
        "colab": {
          "base_uri": "https://localhost:8080/",
          "height": 206
        },
        "id": "o89nhO3FFPQc",
        "outputId": "aeab75ef-e8d4-4913-da7e-0f31febf44df"
      },
      "execution_count": null,
      "outputs": [
        {
          "output_type": "execute_result",
          "data": {
            "text/plain": [
              "            Date        Open        High         Low       Close   Adj Close  \\\n",
              "1002  2019-12-10  296.119995  298.940002  292.019989  293.119995  293.119995   \n",
              "1003  2019-12-11  294.489990  299.429993  294.200012  298.929993  298.929993   \n",
              "1004  2019-12-12  295.670013  299.170013  295.059998  298.440002  298.440002   \n",
              "1005  2019-12-13  298.500000  301.799988  297.250000  298.500000  298.500000   \n",
              "1006  2019-12-16  300.850006  305.709991  298.630005  304.209991  304.209991   \n",
              "\n",
              "        Volume  \n",
              "1002  10476100  \n",
              "1003   5589800  \n",
              "1004   4766600  \n",
              "1005   3879700  \n",
              "1006   4658900  "
            ],
            "text/html": [
              "\n",
              "  <div id=\"df-6a60cc69-fa1f-4f08-8890-0e42c1e28121\" class=\"colab-df-container\">\n",
              "    <div>\n",
              "<style scoped>\n",
              "    .dataframe tbody tr th:only-of-type {\n",
              "        vertical-align: middle;\n",
              "    }\n",
              "\n",
              "    .dataframe tbody tr th {\n",
              "        vertical-align: top;\n",
              "    }\n",
              "\n",
              "    .dataframe thead th {\n",
              "        text-align: right;\n",
              "    }\n",
              "</style>\n",
              "<table border=\"1\" class=\"dataframe\">\n",
              "  <thead>\n",
              "    <tr style=\"text-align: right;\">\n",
              "      <th></th>\n",
              "      <th>Date</th>\n",
              "      <th>Open</th>\n",
              "      <th>High</th>\n",
              "      <th>Low</th>\n",
              "      <th>Close</th>\n",
              "      <th>Adj Close</th>\n",
              "      <th>Volume</th>\n",
              "    </tr>\n",
              "  </thead>\n",
              "  <tbody>\n",
              "    <tr>\n",
              "      <th>1002</th>\n",
              "      <td>2019-12-10</td>\n",
              "      <td>296.119995</td>\n",
              "      <td>298.940002</td>\n",
              "      <td>292.019989</td>\n",
              "      <td>293.119995</td>\n",
              "      <td>293.119995</td>\n",
              "      <td>10476100</td>\n",
              "    </tr>\n",
              "    <tr>\n",
              "      <th>1003</th>\n",
              "      <td>2019-12-11</td>\n",
              "      <td>294.489990</td>\n",
              "      <td>299.429993</td>\n",
              "      <td>294.200012</td>\n",
              "      <td>298.929993</td>\n",
              "      <td>298.929993</td>\n",
              "      <td>5589800</td>\n",
              "    </tr>\n",
              "    <tr>\n",
              "      <th>1004</th>\n",
              "      <td>2019-12-12</td>\n",
              "      <td>295.670013</td>\n",
              "      <td>299.170013</td>\n",
              "      <td>295.059998</td>\n",
              "      <td>298.440002</td>\n",
              "      <td>298.440002</td>\n",
              "      <td>4766600</td>\n",
              "    </tr>\n",
              "    <tr>\n",
              "      <th>1005</th>\n",
              "      <td>2019-12-13</td>\n",
              "      <td>298.500000</td>\n",
              "      <td>301.799988</td>\n",
              "      <td>297.250000</td>\n",
              "      <td>298.500000</td>\n",
              "      <td>298.500000</td>\n",
              "      <td>3879700</td>\n",
              "    </tr>\n",
              "    <tr>\n",
              "      <th>1006</th>\n",
              "      <td>2019-12-16</td>\n",
              "      <td>300.850006</td>\n",
              "      <td>305.709991</td>\n",
              "      <td>298.630005</td>\n",
              "      <td>304.209991</td>\n",
              "      <td>304.209991</td>\n",
              "      <td>4658900</td>\n",
              "    </tr>\n",
              "  </tbody>\n",
              "</table>\n",
              "</div>\n",
              "    <div class=\"colab-df-buttons\">\n",
              "\n",
              "  <div class=\"colab-df-container\">\n",
              "    <button class=\"colab-df-convert\" onclick=\"convertToInteractive('df-6a60cc69-fa1f-4f08-8890-0e42c1e28121')\"\n",
              "            title=\"Convert this dataframe to an interactive table.\"\n",
              "            style=\"display:none;\">\n",
              "\n",
              "  <svg xmlns=\"http://www.w3.org/2000/svg\" height=\"24px\" viewBox=\"0 -960 960 960\">\n",
              "    <path d=\"M120-120v-720h720v720H120Zm60-500h600v-160H180v160Zm220 220h160v-160H400v160Zm0 220h160v-160H400v160ZM180-400h160v-160H180v160Zm440 0h160v-160H620v160ZM180-180h160v-160H180v160Zm440 0h160v-160H620v160Z\"/>\n",
              "  </svg>\n",
              "    </button>\n",
              "\n",
              "  <style>\n",
              "    .colab-df-container {\n",
              "      display:flex;\n",
              "      gap: 12px;\n",
              "    }\n",
              "\n",
              "    .colab-df-convert {\n",
              "      background-color: #E8F0FE;\n",
              "      border: none;\n",
              "      border-radius: 50%;\n",
              "      cursor: pointer;\n",
              "      display: none;\n",
              "      fill: #1967D2;\n",
              "      height: 32px;\n",
              "      padding: 0 0 0 0;\n",
              "      width: 32px;\n",
              "    }\n",
              "\n",
              "    .colab-df-convert:hover {\n",
              "      background-color: #E2EBFA;\n",
              "      box-shadow: 0px 1px 2px rgba(60, 64, 67, 0.3), 0px 1px 3px 1px rgba(60, 64, 67, 0.15);\n",
              "      fill: #174EA6;\n",
              "    }\n",
              "\n",
              "    .colab-df-buttons div {\n",
              "      margin-bottom: 4px;\n",
              "    }\n",
              "\n",
              "    [theme=dark] .colab-df-convert {\n",
              "      background-color: #3B4455;\n",
              "      fill: #D2E3FC;\n",
              "    }\n",
              "\n",
              "    [theme=dark] .colab-df-convert:hover {\n",
              "      background-color: #434B5C;\n",
              "      box-shadow: 0px 1px 3px 1px rgba(0, 0, 0, 0.15);\n",
              "      filter: drop-shadow(0px 1px 2px rgba(0, 0, 0, 0.3));\n",
              "      fill: #FFFFFF;\n",
              "    }\n",
              "  </style>\n",
              "\n",
              "    <script>\n",
              "      const buttonEl =\n",
              "        document.querySelector('#df-6a60cc69-fa1f-4f08-8890-0e42c1e28121 button.colab-df-convert');\n",
              "      buttonEl.style.display =\n",
              "        google.colab.kernel.accessAllowed ? 'block' : 'none';\n",
              "\n",
              "      async function convertToInteractive(key) {\n",
              "        const element = document.querySelector('#df-6a60cc69-fa1f-4f08-8890-0e42c1e28121');\n",
              "        const dataTable =\n",
              "          await google.colab.kernel.invokeFunction('convertToInteractive',\n",
              "                                                    [key], {});\n",
              "        if (!dataTable) return;\n",
              "\n",
              "        const docLinkHtml = 'Like what you see? Visit the ' +\n",
              "          '<a target=\"_blank\" href=https://colab.research.google.com/notebooks/data_table.ipynb>data table notebook</a>'\n",
              "          + ' to learn more about interactive tables.';\n",
              "        element.innerHTML = '';\n",
              "        dataTable['output_type'] = 'display_data';\n",
              "        await google.colab.output.renderOutput(dataTable, element);\n",
              "        const docLink = document.createElement('div');\n",
              "        docLink.innerHTML = docLinkHtml;\n",
              "        element.appendChild(docLink);\n",
              "      }\n",
              "    </script>\n",
              "  </div>\n",
              "\n",
              "\n",
              "<div id=\"df-b326477c-80ef-462b-a13f-3fb599f538c2\">\n",
              "  <button class=\"colab-df-quickchart\" onclick=\"quickchart('df-b326477c-80ef-462b-a13f-3fb599f538c2')\"\n",
              "            title=\"Suggest charts\"\n",
              "            style=\"display:none;\">\n",
              "\n",
              "<svg xmlns=\"http://www.w3.org/2000/svg\" height=\"24px\"viewBox=\"0 0 24 24\"\n",
              "     width=\"24px\">\n",
              "    <g>\n",
              "        <path d=\"M19 3H5c-1.1 0-2 .9-2 2v14c0 1.1.9 2 2 2h14c1.1 0 2-.9 2-2V5c0-1.1-.9-2-2-2zM9 17H7v-7h2v7zm4 0h-2V7h2v10zm4 0h-2v-4h2v4z\"/>\n",
              "    </g>\n",
              "</svg>\n",
              "  </button>\n",
              "\n",
              "<style>\n",
              "  .colab-df-quickchart {\n",
              "      --bg-color: #E8F0FE;\n",
              "      --fill-color: #1967D2;\n",
              "      --hover-bg-color: #E2EBFA;\n",
              "      --hover-fill-color: #174EA6;\n",
              "      --disabled-fill-color: #AAA;\n",
              "      --disabled-bg-color: #DDD;\n",
              "  }\n",
              "\n",
              "  [theme=dark] .colab-df-quickchart {\n",
              "      --bg-color: #3B4455;\n",
              "      --fill-color: #D2E3FC;\n",
              "      --hover-bg-color: #434B5C;\n",
              "      --hover-fill-color: #FFFFFF;\n",
              "      --disabled-bg-color: #3B4455;\n",
              "      --disabled-fill-color: #666;\n",
              "  }\n",
              "\n",
              "  .colab-df-quickchart {\n",
              "    background-color: var(--bg-color);\n",
              "    border: none;\n",
              "    border-radius: 50%;\n",
              "    cursor: pointer;\n",
              "    display: none;\n",
              "    fill: var(--fill-color);\n",
              "    height: 32px;\n",
              "    padding: 0;\n",
              "    width: 32px;\n",
              "  }\n",
              "\n",
              "  .colab-df-quickchart:hover {\n",
              "    background-color: var(--hover-bg-color);\n",
              "    box-shadow: 0 1px 2px rgba(60, 64, 67, 0.3), 0 1px 3px 1px rgba(60, 64, 67, 0.15);\n",
              "    fill: var(--button-hover-fill-color);\n",
              "  }\n",
              "\n",
              "  .colab-df-quickchart-complete:disabled,\n",
              "  .colab-df-quickchart-complete:disabled:hover {\n",
              "    background-color: var(--disabled-bg-color);\n",
              "    fill: var(--disabled-fill-color);\n",
              "    box-shadow: none;\n",
              "  }\n",
              "\n",
              "  .colab-df-spinner {\n",
              "    border: 2px solid var(--fill-color);\n",
              "    border-color: transparent;\n",
              "    border-bottom-color: var(--fill-color);\n",
              "    animation:\n",
              "      spin 1s steps(1) infinite;\n",
              "  }\n",
              "\n",
              "  @keyframes spin {\n",
              "    0% {\n",
              "      border-color: transparent;\n",
              "      border-bottom-color: var(--fill-color);\n",
              "      border-left-color: var(--fill-color);\n",
              "    }\n",
              "    20% {\n",
              "      border-color: transparent;\n",
              "      border-left-color: var(--fill-color);\n",
              "      border-top-color: var(--fill-color);\n",
              "    }\n",
              "    30% {\n",
              "      border-color: transparent;\n",
              "      border-left-color: var(--fill-color);\n",
              "      border-top-color: var(--fill-color);\n",
              "      border-right-color: var(--fill-color);\n",
              "    }\n",
              "    40% {\n",
              "      border-color: transparent;\n",
              "      border-right-color: var(--fill-color);\n",
              "      border-top-color: var(--fill-color);\n",
              "    }\n",
              "    60% {\n",
              "      border-color: transparent;\n",
              "      border-right-color: var(--fill-color);\n",
              "    }\n",
              "    80% {\n",
              "      border-color: transparent;\n",
              "      border-right-color: var(--fill-color);\n",
              "      border-bottom-color: var(--fill-color);\n",
              "    }\n",
              "    90% {\n",
              "      border-color: transparent;\n",
              "      border-bottom-color: var(--fill-color);\n",
              "    }\n",
              "  }\n",
              "</style>\n",
              "\n",
              "  <script>\n",
              "    async function quickchart(key) {\n",
              "      const quickchartButtonEl =\n",
              "        document.querySelector('#' + key + ' button');\n",
              "      quickchartButtonEl.disabled = true;  // To prevent multiple clicks.\n",
              "      quickchartButtonEl.classList.add('colab-df-spinner');\n",
              "      try {\n",
              "        const charts = await google.colab.kernel.invokeFunction(\n",
              "            'suggestCharts', [key], {});\n",
              "      } catch (error) {\n",
              "        console.error('Error during call to suggestCharts:', error);\n",
              "      }\n",
              "      quickchartButtonEl.classList.remove('colab-df-spinner');\n",
              "      quickchartButtonEl.classList.add('colab-df-quickchart-complete');\n",
              "    }\n",
              "    (() => {\n",
              "      let quickchartButtonEl =\n",
              "        document.querySelector('#df-b326477c-80ef-462b-a13f-3fb599f538c2 button');\n",
              "      quickchartButtonEl.style.display =\n",
              "        google.colab.kernel.accessAllowed ? 'block' : 'none';\n",
              "    })();\n",
              "  </script>\n",
              "</div>\n",
              "\n",
              "    </div>\n",
              "  </div>\n"
            ],
            "application/vnd.google.colaboratory.intrinsic+json": {
              "type": "dataframe",
              "repr_error": "0"
            }
          },
          "metadata": {},
          "execution_count": 11
        }
      ]
    },
    {
      "cell_type": "code",
      "source": [
        "df.shape"
      ],
      "metadata": {
        "colab": {
          "base_uri": "https://localhost:8080/",
          "height": 141
        },
        "id": "eAFuuYdGFVH9",
        "outputId": "8cd2b7af-ccff-45d3-b3a8-ddd1be83fcdc"
      },
      "execution_count": null,
      "outputs": [
        {
          "output_type": "error",
          "ename": "NameError",
          "evalue": "name 'df' is not defined",
          "traceback": [
            "\u001b[0;31m---------------------------------------------------------------------------\u001b[0m",
            "\u001b[0;31mNameError\u001b[0m                                 Traceback (most recent call last)",
            "\u001b[0;32m<ipython-input-4-633337079cd0>\u001b[0m in \u001b[0;36m<cell line: 1>\u001b[0;34m()\u001b[0m\n\u001b[0;32m----> 1\u001b[0;31m \u001b[0mdf\u001b[0m\u001b[0;34m.\u001b[0m\u001b[0mshape\u001b[0m\u001b[0;34m\u001b[0m\u001b[0;34m\u001b[0m\u001b[0m\n\u001b[0m",
            "\u001b[0;31mNameError\u001b[0m: name 'df' is not defined"
          ]
        }
      ]
    },
    {
      "cell_type": "markdown",
      "source": [
        "**Python Data Type**\n",
        "\n",
        "\n",
        "1.   String\n",
        "2.   Integer\n",
        "3.   Float\n",
        "\n"
      ],
      "metadata": {
        "id": "-LGEGT9YzN8A"
      }
    },
    {
      "cell_type": "code",
      "source": [
        "print ('Data Science') #String\n",
        "\n",
        "print(8.8) #Float\n",
        "\n",
        "2024 #Integer"
      ],
      "metadata": {
        "colab": {
          "base_uri": "https://localhost:8080/"
        },
        "id": "rQKEMm7kzL_6",
        "outputId": "d3d14f14-03c5-40bf-e7fe-589e72740e29"
      },
      "execution_count": null,
      "outputs": [
        {
          "output_type": "stream",
          "name": "stdout",
          "text": [
            "Data Science\n",
            "8.8\n"
          ]
        },
        {
          "output_type": "execute_result",
          "data": {
            "text/plain": [
              "2024"
            ]
          },
          "metadata": {},
          "execution_count": 3
        }
      ]
    },
    {
      "cell_type": "code",
      "source": [
        "type ('Big Data')"
      ],
      "metadata": {
        "colab": {
          "base_uri": "https://localhost:8080/"
        },
        "id": "40dTif1n0GPA",
        "outputId": "33452f93-9eef-4f36-b4dc-1ae8301f4bc4"
      },
      "execution_count": null,
      "outputs": [
        {
          "output_type": "execute_result",
          "data": {
            "text/plain": [
              "str"
            ]
          },
          "metadata": {},
          "execution_count": 4
        }
      ]
    },
    {
      "cell_type": "code",
      "source": [
        "type (9.4)"
      ],
      "metadata": {
        "colab": {
          "base_uri": "https://localhost:8080/"
        },
        "id": "qoQwetpp0NAz",
        "outputId": "32b5a715-4c34-4325-fa82-2b1fe4482a41"
      },
      "execution_count": null,
      "outputs": [
        {
          "output_type": "execute_result",
          "data": {
            "text/plain": [
              "float"
            ]
          },
          "metadata": {},
          "execution_count": 5
        }
      ]
    },
    {
      "cell_type": "code",
      "source": [
        "type(2025)"
      ],
      "metadata": {
        "colab": {
          "base_uri": "https://localhost:8080/"
        },
        "id": "gCcMdMg30Tt5",
        "outputId": "03bb9155-60ba-47f9-e361-218d494967b7"
      },
      "execution_count": null,
      "outputs": [
        {
          "output_type": "execute_result",
          "data": {
            "text/plain": [
              "int"
            ]
          },
          "metadata": {},
          "execution_count": 6
        }
      ]
    },
    {
      "cell_type": "markdown",
      "source": [
        "**int, float, complex**"
      ],
      "metadata": {
        "id": "b-8d5Hl40b3G"
      }
    },
    {
      "cell_type": "code",
      "source": [
        "#complex\n",
        "\n",
        "a = 3 + 6 * b"
      ],
      "metadata": {
        "colab": {
          "base_uri": "https://localhost:8080/",
          "height": 176
        },
        "id": "kNEpk38K0X0P",
        "outputId": "a31aa97a-e1ce-4c2b-9287-c7a374265f73"
      },
      "execution_count": null,
      "outputs": [
        {
          "output_type": "error",
          "ename": "NameError",
          "evalue": "name 'b' is not defined",
          "traceback": [
            "\u001b[0;31m---------------------------------------------------------------------------\u001b[0m",
            "\u001b[0;31mNameError\u001b[0m                                 Traceback (most recent call last)",
            "\u001b[0;32m<ipython-input-7-7ad069bcfc5c>\u001b[0m in \u001b[0;36m<cell line: 3>\u001b[0;34m()\u001b[0m\n\u001b[1;32m      1\u001b[0m \u001b[0;31m#complex\u001b[0m\u001b[0;34m\u001b[0m\u001b[0;34m\u001b[0m\u001b[0m\n\u001b[1;32m      2\u001b[0m \u001b[0;34m\u001b[0m\u001b[0m\n\u001b[0;32m----> 3\u001b[0;31m \u001b[0ma\u001b[0m \u001b[0;34m=\u001b[0m \u001b[0;36m3\u001b[0m \u001b[0;34m+\u001b[0m \u001b[0;36m6\u001b[0m \u001b[0;34m*\u001b[0m \u001b[0mb\u001b[0m\u001b[0;34m\u001b[0m\u001b[0;34m\u001b[0m\u001b[0m\n\u001b[0m",
            "\u001b[0;31mNameError\u001b[0m: name 'b' is not defined"
          ]
        }
      ]
    },
    {
      "cell_type": "code",
      "source": [
        "!python --version"
      ],
      "metadata": {
        "colab": {
          "base_uri": "https://localhost:8080/"
        },
        "id": "BSNYBaks1WPC",
        "outputId": "c6b02821-9ab2-420c-f4ce-ba24034f57f9"
      },
      "execution_count": null,
      "outputs": [
        {
          "output_type": "stream",
          "name": "stdout",
          "text": [
            "Python 3.10.12\n"
          ]
        }
      ]
    },
    {
      "cell_type": "code",
      "source": [
        "type('2024')"
      ],
      "metadata": {
        "colab": {
          "base_uri": "https://localhost:8080/"
        },
        "id": "Sppjgx1S1euc",
        "outputId": "473c432a-98ab-48bd-e50a-f6964766f1cf"
      },
      "execution_count": null,
      "outputs": [
        {
          "output_type": "execute_result",
          "data": {
            "text/plain": [
              "str"
            ]
          },
          "metadata": {},
          "execution_count": 9
        }
      ]
    },
    {
      "cell_type": "code",
      "source": [
        "type('265^&*')"
      ],
      "metadata": {
        "colab": {
          "base_uri": "https://localhost:8080/"
        },
        "id": "Y13eZAAQ1xKE",
        "outputId": "af9adf51-9a89-4244-8839-795d014f9be5"
      },
      "execution_count": null,
      "outputs": [
        {
          "output_type": "execute_result",
          "data": {
            "text/plain": [
              "str"
            ]
          },
          "metadata": {},
          "execution_count": 10
        }
      ]
    },
    {
      "cell_type": "markdown",
      "source": [
        "**Boolean Data Type**\n",
        "\n",
        "\n",
        "\n",
        "*   True (CL-T)\n",
        "*   False (CL-F)\n",
        "\n"
      ],
      "metadata": {
        "id": "8aO8EjLb2Djd"
      }
    },
    {
      "cell_type": "code",
      "source": [
        "type(True)"
      ],
      "metadata": {
        "colab": {
          "base_uri": "https://localhost:8080/"
        },
        "id": "O7bLsdl212tU",
        "outputId": "7290a1b9-0d09-4134-d506-bdbd72548f19"
      },
      "execution_count": null,
      "outputs": [
        {
          "output_type": "execute_result",
          "data": {
            "text/plain": [
              "bool"
            ]
          },
          "metadata": {},
          "execution_count": 11
        }
      ]
    },
    {
      "cell_type": "code",
      "source": [
        "type(False)"
      ],
      "metadata": {
        "colab": {
          "base_uri": "https://localhost:8080/"
        },
        "id": "y7j5Pgfz2Y90",
        "outputId": "60b2cba4-8b4a-4fa0-c3f0-8595deaa8b2a"
      },
      "execution_count": null,
      "outputs": [
        {
          "output_type": "execute_result",
          "data": {
            "text/plain": [
              "bool"
            ]
          },
          "metadata": {},
          "execution_count": 12
        }
      ]
    },
    {
      "cell_type": "markdown",
      "source": [
        "csv: comma-separated value\n",
        "\n",
        "*Expressions, Variables, Conditions*\n",
        "\n",
        "<ul>\n",
        "    <li>subtraction: <b>-</b></li>\n",
        "    <li>addition: <b>+</b></li>\n",
        "    <li>division: <b>/</b></li>\n",
        "    <li>floor division <b>//</b></li>\n",
        "    <li>multiplication: <b>*</b></li>\n",
        "    <li>modulus: <b>%</b></li>\n",
        "    <li>exponent: <b>**</b></li>\n",
        "</ul>"
      ],
      "metadata": {
        "id": "uVZybipo3Zxd"
      }
    },
    {
      "cell_type": "code",
      "source": [
        "x = 8\n",
        "z = 2\n",
        "\n",
        "y = x/z\n",
        "\n",
        "y"
      ],
      "metadata": {
        "colab": {
          "base_uri": "https://localhost:8080/"
        },
        "id": "rH-OmVqQ2cYx",
        "outputId": "271908a6-80a9-4f2e-a4eb-a00c88aa6cfb"
      },
      "execution_count": null,
      "outputs": [
        {
          "output_type": "execute_result",
          "data": {
            "text/plain": [
              "4.0"
            ]
          },
          "metadata": {},
          "execution_count": 13
        }
      ]
    },
    {
      "cell_type": "code",
      "source": [
        "type(y)"
      ],
      "metadata": {
        "colab": {
          "base_uri": "https://localhost:8080/"
        },
        "id": "Hy4dV0tK4Eu8",
        "outputId": "48f7021c-4a94-4d76-b419-05731640d301"
      },
      "execution_count": null,
      "outputs": [
        {
          "output_type": "execute_result",
          "data": {
            "text/plain": [
              "float"
            ]
          },
          "metadata": {},
          "execution_count": 14
        }
      ]
    },
    {
      "cell_type": "code",
      "source": [
        "y = x // z #float division,always give integer result"
      ],
      "metadata": {
        "id": "gDl4VsZV4eSk"
      },
      "execution_count": null,
      "outputs": []
    },
    {
      "cell_type": "code",
      "source": [
        "y"
      ],
      "metadata": {
        "colab": {
          "base_uri": "https://localhost:8080/"
        },
        "id": "h-lXN0gc4l9m",
        "outputId": "a957363c-1427-49ff-ab11-5eba837baa39"
      },
      "execution_count": null,
      "outputs": [
        {
          "output_type": "execute_result",
          "data": {
            "text/plain": [
              "4"
            ]
          },
          "metadata": {},
          "execution_count": 16
        }
      ]
    },
    {
      "cell_type": "code",
      "source": [
        "type(y)"
      ],
      "metadata": {
        "colab": {
          "base_uri": "https://localhost:8080/"
        },
        "id": "KiWbYjVd4mr3",
        "outputId": "22dcd3b0-5b68-407f-fb28-bbecdb6b44d1"
      },
      "execution_count": null,
      "outputs": [
        {
          "output_type": "execute_result",
          "data": {
            "text/plain": [
              "int"
            ]
          },
          "metadata": {},
          "execution_count": 17
        }
      ]
    },
    {
      "cell_type": "code",
      "source": [
        "b = 8\n",
        "e = 3\n",
        "\n",
        "f = b / e\n",
        "\n",
        "f"
      ],
      "metadata": {
        "colab": {
          "base_uri": "https://localhost:8080/"
        },
        "id": "0DnekWD74xHG",
        "outputId": "c5733d26-3d4f-4c55-d7b0-d4cb26c205f4"
      },
      "execution_count": null,
      "outputs": [
        {
          "output_type": "execute_result",
          "data": {
            "text/plain": [
              "2.6666666666666665"
            ]
          },
          "metadata": {},
          "execution_count": 18
        }
      ]
    },
    {
      "cell_type": "code",
      "source": [
        "f = b // e"
      ],
      "metadata": {
        "id": "eRXJivGb5A4l"
      },
      "execution_count": null,
      "outputs": []
    },
    {
      "cell_type": "code",
      "source": [
        "f"
      ],
      "metadata": {
        "colab": {
          "base_uri": "https://localhost:8080/"
        },
        "id": "C8Z_cYR_5Fgf",
        "outputId": "5c274da8-1c70-4845-d7db-6ae9c82ecc26"
      },
      "execution_count": null,
      "outputs": [
        {
          "output_type": "execute_result",
          "data": {
            "text/plain": [
              "2"
            ]
          },
          "metadata": {},
          "execution_count": 22
        }
      ]
    },
    {
      "cell_type": "code",
      "source": [
        "b1 = 10%3 #remainder\n",
        "b2 = 10%2 #every number modulus 2, if 0, it even. if beside 0, it odd\n",
        "b3 = 11%2\n",
        "b4 = 11%3\n",
        "\n",
        "print(b1)\n",
        "print(b2)\n",
        "print(b3)\n",
        "print(b4)"
      ],
      "metadata": {
        "colab": {
          "base_uri": "https://localhost:8080/"
        },
        "id": "a0W-LbKz5GJ4",
        "outputId": "1b07096a-b6f9-4fdb-9cda-727983f67b31"
      },
      "execution_count": null,
      "outputs": [
        {
          "output_type": "stream",
          "name": "stdout",
          "text": [
            "1\n",
            "0\n",
            "1\n",
            "2\n"
          ]
        }
      ]
    },
    {
      "cell_type": "code",
      "source": [
        "2**3 #Exponent"
      ],
      "metadata": {
        "colab": {
          "base_uri": "https://localhost:8080/"
        },
        "id": "TDzxR8E258HS",
        "outputId": "a871c96b-fb00-46d4-ae49-507f505e6832"
      },
      "execution_count": null,
      "outputs": [
        {
          "output_type": "execute_result",
          "data": {
            "text/plain": [
              "8"
            ]
          },
          "metadata": {},
          "execution_count": 27
        }
      ]
    },
    {
      "cell_type": "code",
      "source": [
        "8**4"
      ],
      "metadata": {
        "colab": {
          "base_uri": "https://localhost:8080/"
        },
        "id": "3_yRXyfj7A6k",
        "outputId": "384de4d8-198a-4732-b81e-47e88eb2c9c5"
      },
      "execution_count": null,
      "outputs": [
        {
          "output_type": "execute_result",
          "data": {
            "text/plain": [
              "4096"
            ]
          },
          "metadata": {},
          "execution_count": 28
        }
      ]
    },
    {
      "cell_type": "markdown",
      "source": [
        "**Variables**\n",
        "\n",
        "do not use the same var as built in funtion\n",
        "\n",
        "avoid using the same var many times\n",
        "\n",
        "avoid using space instead use underscore"
      ],
      "metadata": {
        "id": "QVNkBQZV7OPt"
      }
    },
    {
      "cell_type": "code",
      "source": [
        "type = 'Big Data'"
      ],
      "metadata": {
        "id": "vhe0iQbf7Gn9"
      },
      "execution_count": null,
      "outputs": []
    },
    {
      "cell_type": "code",
      "source": [
        "type(20)"
      ],
      "metadata": {
        "colab": {
          "base_uri": "https://localhost:8080/",
          "height": 141
        },
        "id": "hq-ShNHD70Bj",
        "outputId": "b20bf472-eea2-4463-8fbb-429f4d63de26"
      },
      "execution_count": null,
      "outputs": [
        {
          "output_type": "error",
          "ename": "TypeError",
          "evalue": "'str' object is not callable",
          "traceback": [
            "\u001b[0;31m---------------------------------------------------------------------------\u001b[0m",
            "\u001b[0;31mTypeError\u001b[0m                                 Traceback (most recent call last)",
            "\u001b[0;32m<ipython-input-30-5b1f786095c8>\u001b[0m in \u001b[0;36m<cell line: 1>\u001b[0;34m()\u001b[0m\n\u001b[0;32m----> 1\u001b[0;31m \u001b[0mtype\u001b[0m\u001b[0;34m(\u001b[0m\u001b[0;36m20\u001b[0m\u001b[0;34m)\u001b[0m\u001b[0;34m\u001b[0m\u001b[0;34m\u001b[0m\u001b[0m\n\u001b[0m",
            "\u001b[0;31mTypeError\u001b[0m: 'str' object is not callable"
          ]
        }
      ]
    },
    {
      "cell_type": "code",
      "source": [
        "1234 = 'Data science'"
      ],
      "metadata": {
        "colab": {
          "base_uri": "https://localhost:8080/",
          "height": 106
        },
        "id": "CXz53h-S74FO",
        "outputId": "b10aa122-80f8-4a14-f780-b60be440300e"
      },
      "execution_count": null,
      "outputs": [
        {
          "output_type": "error",
          "ename": "SyntaxError",
          "evalue": "cannot assign to literal here. Maybe you meant '==' instead of '='? (<ipython-input-31-78ccb6b6abe7>, line 1)",
          "traceback": [
            "\u001b[0;36m  File \u001b[0;32m\"<ipython-input-31-78ccb6b6abe7>\"\u001b[0;36m, line \u001b[0;32m1\u001b[0m\n\u001b[0;31m    1234 = 'Data science'\u001b[0m\n\u001b[0m    ^\u001b[0m\n\u001b[0;31mSyntaxError\u001b[0m\u001b[0;31m:\u001b[0m cannot assign to literal here. Maybe you meant '==' instead of '='?\n"
          ]
        }
      ]
    },
    {
      "cell_type": "code",
      "source": [
        "machine learning = 'Data Science'"
      ],
      "metadata": {
        "colab": {
          "base_uri": "https://localhost:8080/",
          "height": 106
        },
        "id": "I1t_6zvn8AMv",
        "outputId": "34d19a19-fb68-44b0-cfcb-163d012bd737"
      },
      "execution_count": null,
      "outputs": [
        {
          "output_type": "error",
          "ename": "SyntaxError",
          "evalue": "invalid syntax (<ipython-input-32-90a1c9da181f>, line 1)",
          "traceback": [
            "\u001b[0;36m  File \u001b[0;32m\"<ipython-input-32-90a1c9da181f>\"\u001b[0;36m, line \u001b[0;32m1\u001b[0m\n\u001b[0;31m    machine learning = 'Data Science'\u001b[0m\n\u001b[0m            ^\u001b[0m\n\u001b[0;31mSyntaxError\u001b[0m\u001b[0;31m:\u001b[0m invalid syntax\n"
          ]
        }
      ]
    },
    {
      "cell_type": "code",
      "source": [
        "machine_learning = 'Data Science'"
      ],
      "metadata": {
        "id": "rtVncUfD8IcT"
      },
      "execution_count": null,
      "outputs": []
    },
    {
      "cell_type": "code",
      "source": [
        "machine_learning"
      ],
      "metadata": {
        "colab": {
          "base_uri": "https://localhost:8080/",
          "height": 36
        },
        "id": "tJDcKHTK8VEl",
        "outputId": "fc138d34-8545-458d-e9e8-de993438901a"
      },
      "execution_count": null,
      "outputs": [
        {
          "output_type": "execute_result",
          "data": {
            "text/plain": [
              "'Data Science'"
            ],
            "application/vnd.google.colaboratory.intrinsic+json": {
              "type": "string"
            }
          },
          "metadata": {},
          "execution_count": 34
        }
      ]
    },
    {
      "cell_type": "markdown",
      "source": [
        "To find which variable has been used"
      ],
      "metadata": {
        "id": "uOj6P_icdSt7"
      }
    },
    {
      "cell_type": "code",
      "source": [
        "%whos"
      ],
      "metadata": {
        "colab": {
          "base_uri": "https://localhost:8080/"
        },
        "id": "yOMPdPQU8bqY",
        "outputId": "d8b51a8a-fe80-4535-841f-fd5ac82cd56c"
      },
      "execution_count": null,
      "outputs": [
        {
          "output_type": "stream",
          "name": "stdout",
          "text": [
            "Variable           Type         Data/Info\n",
            "-----------------------------------------\n",
            "By                 type         <class 'selenium.webdriver.common.by.By'>\n",
            "abc                int          2025\n",
            "b                  int          8\n",
            "b1                 int          1\n",
            "b2                 int          0\n",
            "b3                 int          1\n",
            "b4                 int          2\n",
            "c                  int          1\n",
            "dr                 WebDriver    <selenium.webdriver.chrom<...>af7af9c3b25a4534580185\")>\n",
            "e                  int          3\n",
            "f                  int          2\n",
            "machine_learning   str          Data Science\n",
            "options            Options      <selenium.webdriver.chrom<...>object at 0x7fb39c6edd50>\n",
            "type               str          Big Data\n",
            "webdriver          module       <module 'selenium.webdriv<...>m/webdriver/__init__.py'>\n",
            "x                  int          8\n",
            "y                  int          4\n",
            "z                  int          2\n"
          ]
        }
      ]
    },
    {
      "cell_type": "code",
      "source": [
        "abc = 2025"
      ],
      "metadata": {
        "id": "yW8YN1in8o38"
      },
      "execution_count": null,
      "outputs": []
    },
    {
      "cell_type": "markdown",
      "source": [
        "**Conditions**\n",
        "\n",
        "<ul>\n",
        "    <li>equal: <b>==</b></li>\n",
        "    <li>not equal: <b>!=</b></li>\n",
        "    <li>greater than: <b>></b></li>\n",
        "    <li>less than: <b>&lt;</b></li>\n",
        "    <li>greater than or equal to: <b>>=</b></li>\n",
        "    <li>less than or equal to: <b>&lt;=</b></li>\n",
        "</ul>"
      ],
      "metadata": {
        "id": "sv-Foq1-97S3"
      }
    },
    {
      "cell_type": "code",
      "source": [
        "year = 2024\n",
        "\n",
        "year == 2024"
      ],
      "metadata": {
        "colab": {
          "base_uri": "https://localhost:8080/"
        },
        "id": "awGw4Mge8_gL",
        "outputId": "65613fd7-74bd-43cb-91f0-7dc090383f4e"
      },
      "execution_count": null,
      "outputs": [
        {
          "output_type": "execute_result",
          "data": {
            "text/plain": [
              "True"
            ]
          },
          "metadata": {},
          "execution_count": 42
        }
      ]
    },
    {
      "cell_type": "code",
      "source": [
        "year != 2024"
      ],
      "metadata": {
        "colab": {
          "base_uri": "https://localhost:8080/"
        },
        "id": "X8yBHw0l-RGZ",
        "outputId": "3d2c7084-72ad-497d-ab47-f64b9aaf0d0c"
      },
      "execution_count": null,
      "outputs": [
        {
          "output_type": "execute_result",
          "data": {
            "text/plain": [
              "False"
            ]
          },
          "metadata": {},
          "execution_count": 43
        }
      ]
    },
    {
      "cell_type": "code",
      "source": [
        "year ==2026"
      ],
      "metadata": {
        "colab": {
          "base_uri": "https://localhost:8080/"
        },
        "id": "zwXMZLMD-ZxQ",
        "outputId": "82552196-4562-4928-d161-7e3e31c19210"
      },
      "execution_count": null,
      "outputs": [
        {
          "output_type": "execute_result",
          "data": {
            "text/plain": [
              "False"
            ]
          },
          "metadata": {},
          "execution_count": 44
        }
      ]
    },
    {
      "cell_type": "code",
      "source": [],
      "metadata": {
        "id": "yZuXimyz-g6Z"
      },
      "execution_count": null,
      "outputs": []
    }
  ]
}