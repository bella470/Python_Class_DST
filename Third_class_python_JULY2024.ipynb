{
  "nbformat": 4,
  "nbformat_minor": 0,
  "metadata": {
    "colab": {
      "provenance": [],
      "authorship_tag": "ABX9TyNsCJvWJdtGHjnQshe3C5GC",
      "include_colab_link": true
    },
    "kernelspec": {
      "name": "python3",
      "display_name": "Python 3"
    },
    "language_info": {
      "name": "python"
    }
  },
  "cells": [
    {
      "cell_type": "markdown",
      "metadata": {
        "id": "view-in-github",
        "colab_type": "text"
      },
      "source": [
        "<a href=\"https://colab.research.google.com/github/bella470/Python_Class_DST/blob/main/Third_class_python_JULY2024.ipynb\" target=\"_parent\"><img src=\"https://colab.research.google.com/assets/colab-badge.svg\" alt=\"Open In Colab\"/></a>"
      ]
    },
    {
      "cell_type": "markdown",
      "source": [
        "**Set**\n",
        "\n",
        "setting the item in descending item\n",
        "\n",
        "doesnt accept any duplicate item\n",
        "\n",
        "set of string, according to the alphabet"
      ],
      "metadata": {
        "id": "EqAN4CohA90e"
      }
    },
    {
      "cell_type": "code",
      "execution_count": 1,
      "metadata": {
        "colab": {
          "base_uri": "https://localhost:8080/"
        },
        "id": "nldx_6h18hpG",
        "outputId": "3f945045-4ec6-4fbc-b778-0102d40196cc"
      },
      "outputs": [
        {
          "output_type": "execute_result",
          "data": {
            "text/plain": [
              "set"
            ]
          },
          "metadata": {},
          "execution_count": 1
        }
      ],
      "source": [
        "s1 = {8.8, 'Data Science', 99, 2.2, 'Python'}\n",
        "\n",
        "type(s1)"
      ]
    },
    {
      "cell_type": "code",
      "source": [
        "print (s1)\n",
        "\n",
        "s1"
      ],
      "metadata": {
        "colab": {
          "base_uri": "https://localhost:8080/"
        },
        "id": "t2qpCR34BY5q",
        "outputId": "023e8321-bab9-428d-d593-912bf69cec17"
      },
      "execution_count": 10,
      "outputs": [
        {
          "output_type": "stream",
          "name": "stdout",
          "text": [
            "{'Data Science', 2.2, 99, 'Python', 8.8}\n"
          ]
        },
        {
          "output_type": "execute_result",
          "data": {
            "text/plain": [
              "{2.2, 8.8, 99, 'Data Science', 'Python'}"
            ]
          },
          "metadata": {},
          "execution_count": 10
        }
      ]
    },
    {
      "cell_type": "code",
      "source": [
        "s2 = {20, -10, 0, 5, 99,-10, 20, 2.2, 88}\n",
        "\n",
        "print (s2) #no duplicate"
      ],
      "metadata": {
        "colab": {
          "base_uri": "https://localhost:8080/"
        },
        "id": "bUS5pGwVBcBb",
        "outputId": "32b7a589-e0aa-4ed9-8a4e-e47fc3dc6b87"
      },
      "execution_count": 5,
      "outputs": [
        {
          "output_type": "stream",
          "name": "stdout",
          "text": [
            "{0, 2.2, 99, 20, 5, -10, 88}\n"
          ]
        }
      ]
    },
    {
      "cell_type": "code",
      "source": [
        "s2 #already sorted so highest is -1 and lowest is 0"
      ],
      "metadata": {
        "colab": {
          "base_uri": "https://localhost:8080/"
        },
        "id": "VYvoX9QtB-_Z",
        "outputId": "f35a8594-85ca-4005-a2aa-92cb0f211fec"
      },
      "execution_count": 4,
      "outputs": [
        {
          "output_type": "execute_result",
          "data": {
            "text/plain": [
              "{-10, 0, 2.2, 5, 20, 88, 99}"
            ]
          },
          "metadata": {},
          "execution_count": 4
        }
      ]
    },
    {
      "cell_type": "code",
      "source": [
        "s2.add (10)\n",
        "\n",
        "s2"
      ],
      "metadata": {
        "colab": {
          "base_uri": "https://localhost:8080/"
        },
        "id": "nHG1MByeEv00",
        "outputId": "873bc070-784d-428b-97c9-0f54e5987ea7"
      },
      "execution_count": 13,
      "outputs": [
        {
          "output_type": "execute_result",
          "data": {
            "text/plain": [
              "{-10, 0, 2.2, 5, 10, 20, 88, 99}"
            ]
          },
          "metadata": {},
          "execution_count": 13
        }
      ]
    },
    {
      "cell_type": "code",
      "source": [
        "s3 = {'data', 'ai', 'ML', 'pyhton', 'big data'}\n",
        "\n",
        "s3 #according to alphabet but priority to capital letter"
      ],
      "metadata": {
        "colab": {
          "base_uri": "https://localhost:8080/"
        },
        "id": "oyGo-NiPCZu0",
        "outputId": "c3ecf74d-4718-442f-c3bb-5a5d4697a485"
      },
      "execution_count": 8,
      "outputs": [
        {
          "output_type": "execute_result",
          "data": {
            "text/plain": [
              "{'ML', 'ai', 'big data', 'data', 'pyhton'}"
            ]
          },
          "metadata": {},
          "execution_count": 8
        }
      ]
    },
    {
      "cell_type": "code",
      "source": [
        "s4 = {'data', 'ai', 'ml', 'pyhton', 'big data'}\n",
        "\n",
        "s4"
      ],
      "metadata": {
        "colab": {
          "base_uri": "https://localhost:8080/"
        },
        "id": "aAqRU5-CC0KI",
        "outputId": "7602b583-4ee6-47ab-a87b-afa8508c2d0c"
      },
      "execution_count": 9,
      "outputs": [
        {
          "output_type": "execute_result",
          "data": {
            "text/plain": [
              "{'ai', 'big data', 'data', 'ml', 'pyhton'}"
            ]
          },
          "metadata": {},
          "execution_count": 9
        }
      ]
    },
    {
      "cell_type": "code",
      "source": [
        "s5 = {'Data', 'ai', 'ml', 'Pyhton', 'Big data'}\n",
        "\n",
        "s5"
      ],
      "metadata": {
        "colab": {
          "base_uri": "https://localhost:8080/"
        },
        "id": "cpWfeeqNDL17",
        "outputId": "323e0c3e-bb63-4980-ab74-ce730e8f951a"
      },
      "execution_count": 11,
      "outputs": [
        {
          "output_type": "execute_result",
          "data": {
            "text/plain": [
              "{'Big data', 'Data', 'Pyhton', 'ai', 'ml'}"
            ]
          },
          "metadata": {},
          "execution_count": 11
        }
      ]
    },
    {
      "cell_type": "code",
      "source": [
        "#add funtion\n",
        "\n",
        "s5.add('nabila')\n",
        "\n",
        "s5 #add according to the sets #it sort it own way to sort the set"
      ],
      "metadata": {
        "colab": {
          "base_uri": "https://localhost:8080/"
        },
        "id": "vgNIQlU_Di_7",
        "outputId": "95c6ef1c-b656-4969-a116-d8d7f21c0033"
      },
      "execution_count": 12,
      "outputs": [
        {
          "output_type": "execute_result",
          "data": {
            "text/plain": [
              "{'Big data', 'Data', 'Pyhton', 'ai', 'ml', 'nabila'}"
            ]
          },
          "metadata": {},
          "execution_count": 12
        }
      ]
    },
    {
      "cell_type": "code",
      "source": [
        "#remove #it will remive lower index first\n",
        "\n",
        "s2.remove (88)\n",
        "\n",
        "s2"
      ],
      "metadata": {
        "colab": {
          "base_uri": "https://localhost:8080/"
        },
        "id": "uttRRWwWDzKB",
        "outputId": "8fe4fbd5-e614-44c5-dd59-60487014ba8a"
      },
      "execution_count": 14,
      "outputs": [
        {
          "output_type": "execute_result",
          "data": {
            "text/plain": [
              "{-10, 0, 2.2, 5, 10, 20, 99}"
            ]
          },
          "metadata": {},
          "execution_count": 14
        }
      ]
    },
    {
      "cell_type": "code",
      "source": [
        "#intersection #about having two set and having it find common item in the two sets\n",
        "\n",
        "#important for evaluation method later\n",
        "\n",
        "#tuple list can be convert to set\n",
        "\n",
        "set_a = {1, 3, 5, 7, 8, 9, 10, 11, 12, 13, 14} #actual result\n",
        "set_b = {1, 2, 3, 4, 5, 6, 7, 8, 9, 10, 11} #predicted result\n",
        "\n",
        "set_a.intersection(set_b) #how many of the model predict correctly"
      ],
      "metadata": {
        "colab": {
          "base_uri": "https://localhost:8080/"
        },
        "id": "OmM2Qhx8Fp_Y",
        "outputId": "ec79e4b8-1674-4944-c612-01943fb99e78"
      },
      "execution_count": 16,
      "outputs": [
        {
          "output_type": "execute_result",
          "data": {
            "text/plain": [
              "{1, 3, 5, 7, 8, 9, 10, 11}"
            ]
          },
          "metadata": {},
          "execution_count": 16
        }
      ]
    },
    {
      "cell_type": "code",
      "source": [
        "#union #intersection/union will get the accuracy\n",
        "\n",
        "#higher accuarcy the better\n",
        "\n",
        "set_a.union(set_b)"
      ],
      "metadata": {
        "colab": {
          "base_uri": "https://localhost:8080/"
        },
        "id": "2Vx3Ez4OG1Ux",
        "outputId": "a72f7dcd-fd5d-46de-f208-f67a8df9e174"
      },
      "execution_count": 17,
      "outputs": [
        {
          "output_type": "execute_result",
          "data": {
            "text/plain": [
              "{1, 2, 3, 4, 5, 6, 7, 8, 9, 10, 11, 12, 13, 14}"
            ]
          },
          "metadata": {},
          "execution_count": 17
        }
      ]
    },
    {
      "cell_type": "code",
      "source": [
        "list_a = [1, 2, 3, 4, 1, 2, 5]\n",
        "\n",
        "set_list_a = set(list_a)\n",
        "\n",
        "set_list_a"
      ],
      "metadata": {
        "colab": {
          "base_uri": "https://localhost:8080/"
        },
        "id": "h2-WHfwAH07j",
        "outputId": "5ff849a2-f842-4d48-a8ab-6a0c2c5044a0"
      },
      "execution_count": 18,
      "outputs": [
        {
          "output_type": "execute_result",
          "data": {
            "text/plain": [
              "{1, 2, 3, 4, 5}"
            ]
          },
          "metadata": {},
          "execution_count": 18
        }
      ]
    },
    {
      "cell_type": "code",
      "source": [
        "#write a code to find the highest value in the list of numbers by using set only\n",
        "\n",
        "list_b = [100, -99, 101, 88, 55.6, 0]\n",
        "\n",
        "#convert to set and it will be sorted\n",
        "\n",
        "set_list_b = set(list_b)\n",
        "\n",
        "set_list_b"
      ],
      "metadata": {
        "colab": {
          "base_uri": "https://localhost:8080/"
        },
        "id": "_4K69OfnImaK",
        "outputId": "abd0f366-36ac-4fc8-ee71-7e82f393f3ad"
      },
      "execution_count": 19,
      "outputs": [
        {
          "output_type": "execute_result",
          "data": {
            "text/plain": [
              "{-99, 0, 55.6, 88, 100, 101}"
            ]
          },
          "metadata": {},
          "execution_count": 19
        }
      ]
    },
    {
      "cell_type": "code",
      "source": [
        "#convert back to list to print the highest value #cannot do it cause the index will be different\n",
        "\n",
        "list_set_list_b = list (set_list_b)\n",
        "\n",
        "print ('The highest value is: ', list_set_list_b[-1]) #wrong answer\n",
        "\n",
        "#use max function to print the highest value\n",
        "\n",
        "print (max(set_list_b))"
      ],
      "metadata": {
        "colab": {
          "base_uri": "https://localhost:8080/"
        },
        "id": "XLUyJEqDJPX6",
        "outputId": "40dfbd59-072f-4362-ce94-cdd517d89bba"
      },
      "execution_count": 24,
      "outputs": [
        {
          "output_type": "stream",
          "name": "stdout",
          "text": [
            "The highest value is:  -99\n",
            "101\n"
          ]
        }
      ]
    },
    {
      "cell_type": "code",
      "source": [
        "#difference #those item in set a but not in the set b\n",
        "\n",
        "#misprediction bcause the model not able to predict\n",
        "\n",
        "set_a.difference(set_b)"
      ],
      "metadata": {
        "colab": {
          "base_uri": "https://localhost:8080/"
        },
        "id": "REDx8iluJnNd",
        "outputId": "e499b29d-7396-4385-a8fd-60a9fb83cb58"
      },
      "execution_count": 25,
      "outputs": [
        {
          "output_type": "execute_result",
          "data": {
            "text/plain": [
              "{12, 13, 14}"
            ]
          },
          "metadata": {},
          "execution_count": 25
        }
      ]
    },
    {
      "cell_type": "code",
      "source": [
        "#incorrectly predicted as it not in the actual result\n",
        "set_b.difference (set_a)"
      ],
      "metadata": {
        "colab": {
          "base_uri": "https://localhost:8080/"
        },
        "id": "gpkyXjptMp-x",
        "outputId": "b79d756a-bb9f-405b-d36b-d82a8ecf2771"
      },
      "execution_count": 26,
      "outputs": [
        {
          "output_type": "execute_result",
          "data": {
            "text/plain": [
              "{2, 4, 6}"
            ]
          },
          "metadata": {},
          "execution_count": 26
        }
      ]
    },
    {
      "cell_type": "markdown",
      "source": [
        "**Dictionary**\n",
        "\n",
        "difference from set\n",
        "\n",
        "* each item is going to present a key & a value\n",
        "\n",
        "* Key: value\n",
        "\n",
        "* key can be any type\n",
        "\n",
        "* value can be any type\n",
        "\n",
        "*Dictionary: {key1:value1, key2:value2, .....keyn:valuen}\n",
        "\n",
        "might have some issue with key"
      ],
      "metadata": {
        "id": "6XLRqO7OONq1"
      }
    },
    {
      "cell_type": "code",
      "source": [
        "d1 = {'AI':99, 8.8:['ML', 'DL'], (1,2,3):['Big Data']}\n",
        "\n",
        "d1"
      ],
      "metadata": {
        "colab": {
          "base_uri": "https://localhost:8080/"
        },
        "id": "giQCwMinNE1i",
        "outputId": "72aadd8d-5904-43bf-c819-049997fb201b"
      },
      "execution_count": 27,
      "outputs": [
        {
          "output_type": "execute_result",
          "data": {
            "text/plain": [
              "{'AI': 99, 8.8: ['ML', 'DL'], (1, 2, 3): ['Big Data']}"
            ]
          },
          "metadata": {},
          "execution_count": 27
        }
      ]
    },
    {
      "cell_type": "code",
      "source": [
        "type(d1)"
      ],
      "metadata": {
        "colab": {
          "base_uri": "https://localhost:8080/"
        },
        "id": "NanvbuiaPffq",
        "outputId": "b26ddaad-a196-4a2a-9dfb-126ba9c6f23f"
      },
      "execution_count": 28,
      "outputs": [
        {
          "output_type": "execute_result",
          "data": {
            "text/plain": [
              "dict"
            ]
          },
          "metadata": {},
          "execution_count": 28
        }
      ]
    },
    {
      "cell_type": "code",
      "source": [
        "#we have data that can represents other data\n",
        "#definitely have index, the key of that item is the index\n",
        "#key have to be a unique value\n",
        "\n",
        "d1[(1,2,3)]"
      ],
      "metadata": {
        "colab": {
          "base_uri": "https://localhost:8080/"
        },
        "id": "jYTrK5tjPj39",
        "outputId": "5450305c-32d1-4522-fad6-e973478b28b1"
      },
      "execution_count": 29,
      "outputs": [
        {
          "output_type": "execute_result",
          "data": {
            "text/plain": [
              "['Big Data']"
            ]
          },
          "metadata": {},
          "execution_count": 29
        }
      ]
    },
    {
      "cell_type": "code",
      "source": [
        "#only calls all the keys\n",
        "\n",
        "d1.keys()"
      ],
      "metadata": {
        "colab": {
          "base_uri": "https://localhost:8080/"
        },
        "id": "HnjWbSerQcNv",
        "outputId": "233224e9-b582-489e-a15a-1c2002dc97c1"
      },
      "execution_count": 31,
      "outputs": [
        {
          "output_type": "execute_result",
          "data": {
            "text/plain": [
              "dict_keys(['AI', 8.8, (1, 2, 3)])"
            ]
          },
          "metadata": {},
          "execution_count": 31
        }
      ]
    },
    {
      "cell_type": "code",
      "source": [
        "#only calls all the values\n",
        "\n",
        "d1.values()"
      ],
      "metadata": {
        "colab": {
          "base_uri": "https://localhost:8080/"
        },
        "id": "E2wE-_SBQmBC",
        "outputId": "63cb4d4f-8c2d-4206-a166-5aad6bc971a5"
      },
      "execution_count": 33,
      "outputs": [
        {
          "output_type": "execute_result",
          "data": {
            "text/plain": [
              "dict_values([99, ['ML', 'DL'], ['Big Data']])"
            ]
          },
          "metadata": {},
          "execution_count": 33
        }
      ]
    },
    {
      "cell_type": "code",
      "source": [
        "#use the key to change the value of certain key\n",
        "\n",
        "d1['AI'] = -10\n",
        "\n",
        "d1"
      ],
      "metadata": {
        "colab": {
          "base_uri": "https://localhost:8080/"
        },
        "id": "jQHy7gdTQvMy",
        "outputId": "598bdfae-0dcd-4b38-e356-f4412ef79281"
      },
      "execution_count": 34,
      "outputs": [
        {
          "output_type": "execute_result",
          "data": {
            "text/plain": [
              "{'AI': -10, 8.8: ['ML', 'DL'], (1, 2, 3): ['Big Data']}"
            ]
          },
          "metadata": {},
          "execution_count": 34
        }
      ]
    },
    {
      "cell_type": "code",
      "source": [
        "#delete items using the key\n",
        "\n",
        "d1.pop((1,2,3))\n",
        "\n",
        "d1"
      ],
      "metadata": {
        "colab": {
          "base_uri": "https://localhost:8080/"
        },
        "id": "ho5H9JdWRfQb",
        "outputId": "2b8e0147-e7f3-4dbd-96c8-ddabec775fbb"
      },
      "execution_count": 35,
      "outputs": [
        {
          "output_type": "execute_result",
          "data": {
            "text/plain": [
              "{'AI': -10, 8.8: ['ML', 'DL']}"
            ]
          },
          "metadata": {},
          "execution_count": 35
        }
      ]
    },
    {
      "cell_type": "code",
      "source": [
        "d2 = {[1,2]:99, (100, 200):['bell']}\n",
        "\n",
        "d2 #dictionary doesn't accept list as a key cause mutable"
      ],
      "metadata": {
        "colab": {
          "base_uri": "https://localhost:8080/",
          "height": 176
        },
        "id": "_CslW1fbRw6O",
        "outputId": "b352df86-d935-4030-b291-c74ec46450f9"
      },
      "execution_count": 36,
      "outputs": [
        {
          "output_type": "error",
          "ename": "TypeError",
          "evalue": "unhashable type: 'list'",
          "traceback": [
            "\u001b[0;31m---------------------------------------------------------------------------\u001b[0m",
            "\u001b[0;31mTypeError\u001b[0m                                 Traceback (most recent call last)",
            "\u001b[0;32m<ipython-input-36-3c1b321ad021>\u001b[0m in \u001b[0;36m<cell line: 1>\u001b[0;34m()\u001b[0m\n\u001b[0;32m----> 1\u001b[0;31m \u001b[0md2\u001b[0m \u001b[0;34m=\u001b[0m \u001b[0;34m{\u001b[0m\u001b[0;34m[\u001b[0m\u001b[0;36m1\u001b[0m\u001b[0;34m,\u001b[0m\u001b[0;36m2\u001b[0m\u001b[0;34m]\u001b[0m\u001b[0;34m:\u001b[0m\u001b[0;36m99\u001b[0m\u001b[0;34m,\u001b[0m \u001b[0;34m(\u001b[0m\u001b[0;36m100\u001b[0m\u001b[0;34m,\u001b[0m \u001b[0;36m200\u001b[0m\u001b[0;34m)\u001b[0m\u001b[0;34m:\u001b[0m\u001b[0;34m[\u001b[0m\u001b[0;34m'bell'\u001b[0m\u001b[0;34m]\u001b[0m\u001b[0;34m}\u001b[0m\u001b[0;34m\u001b[0m\u001b[0;34m\u001b[0m\u001b[0m\n\u001b[0m\u001b[1;32m      2\u001b[0m \u001b[0;34m\u001b[0m\u001b[0m\n\u001b[1;32m      3\u001b[0m \u001b[0md2\u001b[0m\u001b[0;34m\u001b[0m\u001b[0;34m\u001b[0m\u001b[0m\n",
            "\u001b[0;31mTypeError\u001b[0m: unhashable type: 'list'"
          ]
        }
      ]
    },
    {
      "cell_type": "code",
      "source": [
        "d3 = {(1,2):99, (100, 200):['bell']}\n",
        "\n",
        "d3 #dictionary accept tuple cause it immutable"
      ],
      "metadata": {
        "colab": {
          "base_uri": "https://localhost:8080/"
        },
        "id": "ZQfL5m2ESL6O",
        "outputId": "1ceff216-de60-48f4-a726-e195ed35df84"
      },
      "execution_count": 37,
      "outputs": [
        {
          "output_type": "execute_result",
          "data": {
            "text/plain": [
              "{(1, 2): 99, (100, 200): ['bell']}"
            ]
          },
          "metadata": {},
          "execution_count": 37
        }
      ]
    },
    {
      "cell_type": "markdown",
      "source": [
        "**if statement, elif statemet, else**"
      ],
      "metadata": {
        "id": "QIxyFoS6TU6B"
      }
    },
    {
      "cell_type": "code",
      "source": [
        "country = 'Malaysia'\n",
        "\n",
        "if country == 'Malaysia':   #if it is true will go to another line\n",
        "  print ('Country is Malaysia')"
      ],
      "metadata": {
        "colab": {
          "base_uri": "https://localhost:8080/"
        },
        "id": "xX_BLToiSebn",
        "outputId": "6b402b22-4f89-4edf-e6f6-e4c64dcc0224"
      },
      "execution_count": 38,
      "outputs": [
        {
          "output_type": "stream",
          "name": "stdout",
          "text": [
            "Country is Malaysia\n"
          ]
        }
      ]
    },
    {
      "cell_type": "code",
      "source": [
        "if country == 'Singapore':      #False statement\n",
        "  print ('Country is Singapore')"
      ],
      "metadata": {
        "id": "iW1ZR0ocUDh_"
      },
      "execution_count": 39,
      "outputs": []
    },
    {
      "cell_type": "code",
      "source": [
        "if country == 'Singapore':      #False statement\n",
        "  print ('Country is Singapore')\n",
        "\n",
        "else:\n",
        "  print ('Country is Malaysia')"
      ],
      "metadata": {
        "colab": {
          "base_uri": "https://localhost:8080/"
        },
        "id": "t9NwQAJBUme7",
        "outputId": "36d83f5b-0e7b-4d69-e62d-f54b10d7c6aa"
      },
      "execution_count": 41,
      "outputs": [
        {
          "output_type": "stream",
          "name": "stdout",
          "text": [
            "Country is Malaysia\n"
          ]
        }
      ]
    },
    {
      "cell_type": "code",
      "source": [
        "if country == 'Singapore':      #False\n",
        "  print ('Country is Singapore')\n",
        "\n",
        "elif country == 'Thailand':     #False\n",
        "  print ('Country is Thailand')\n",
        "\n",
        "else:                          #True, will print this\n",
        "  print ('Country is Malaysia')"
      ],
      "metadata": {
        "colab": {
          "base_uri": "https://localhost:8080/"
        },
        "id": "H38fXL_0UwaL",
        "outputId": "6fdfecee-dbf4-4d61-8f55-ccc1ea196495"
      },
      "execution_count": 46,
      "outputs": [
        {
          "output_type": "stream",
          "name": "stdout",
          "text": [
            "Country is Malaysia\n"
          ]
        }
      ]
    },
    {
      "cell_type": "code",
      "source": [
        "if country == 'Singapore':      #False\n",
        "  print ('Country is Singapore')\n",
        "\n",
        "elif country == 'Thailand':    #False\n",
        "  print ('Country is Thailand')\n",
        "\n",
        "elif country != 'Singapore':   #True\n",
        "  print ('Country is unknown')\n",
        "\n",
        "else:                          #Skip\n",
        "  print ('Country is Malaysia')"
      ],
      "metadata": {
        "colab": {
          "base_uri": "https://localhost:8080/"
        },
        "id": "lAeVhHffVzP6",
        "outputId": "340fb8db-693d-4871-a95f-1f6bcbe23b23"
      },
      "execution_count": 45,
      "outputs": [
        {
          "output_type": "stream",
          "name": "stdout",
          "text": [
            "Country is unknown\n"
          ]
        }
      ]
    },
    {
      "cell_type": "markdown",
      "source": [
        "<img src=\"https://s3-api.us-geo.objectstorage.softlayer.net/cf-courses-data/CognitiveClass/PY0101EN/Chapter%203/Images/CondsTable.png\" width=\"650\" />"
      ],
      "metadata": {
        "id": "L-GxGVGAWino"
      }
    },
    {
      "cell_type": "markdown",
      "source": [
        "AND always false unless both are true\n",
        "\n",
        "OR always true unless both are false\n",
        "\n",
        "Opposite"
      ],
      "metadata": {
        "id": "EEXAshswWufw"
      }
    },
    {
      "cell_type": "code",
      "source": [
        "country = 'Malaysia'\n",
        "year = 2024\n",
        "\n",
        "if country == 'Malaysia' and year == 2020: #True and False so become False\n",
        "  print ('Country is Malaysia and year is not 2020')"
      ],
      "metadata": {
        "id": "CMdp42CcWISZ"
      },
      "execution_count": 47,
      "outputs": []
    },
    {
      "cell_type": "code",
      "source": [
        "if country == 'Malaysia' or year == 2020: #True or False so become true\n",
        "  print ('Country is Malaysia and year is not 2020')"
      ],
      "metadata": {
        "colab": {
          "base_uri": "https://localhost:8080/"
        },
        "id": "OctyqefGXh7Y",
        "outputId": "ef783fe3-cb36-494a-d43f-bdee9fb2094d"
      },
      "execution_count": 48,
      "outputs": [
        {
          "output_type": "stream",
          "name": "stdout",
          "text": [
            "Country is Malaysia and year is 2020\n"
          ]
        }
      ]
    },
    {
      "cell_type": "code",
      "source": [
        "if country == 'Malaysia' and year > 2020: #True and true so become true\n",
        "  print ('Country is Malaysia and year is not 2020')"
      ],
      "metadata": {
        "colab": {
          "base_uri": "https://localhost:8080/"
        },
        "id": "BPRpiypUXmkJ",
        "outputId": "cba50bef-4dde-4a92-a2b7-b685ea3b34a8"
      },
      "execution_count": 50,
      "outputs": [
        {
          "output_type": "stream",
          "name": "stdout",
          "text": [
            "Country is Malaysia and year is not 2020\n"
          ]
        }
      ]
    },
    {
      "cell_type": "code",
      "source": [
        "if country == 'Malaysia' and year == 2020: #True and False = False\n",
        "  print ('Country is Malaysia and year is not 2020')\n",
        "\n",
        "elif country == 'Malaysia' and year > 2020: #True and True = True\n",
        "  print ('Country is Malaysia and year is earlier than 2024')"
      ],
      "metadata": {
        "colab": {
          "base_uri": "https://localhost:8080/"
        },
        "id": "mEN24OuAYr2v",
        "outputId": "57abb706-f220-43c7-dd7a-40e822b1abfa"
      },
      "execution_count": 51,
      "outputs": [
        {
          "output_type": "stream",
          "name": "stdout",
          "text": [
            "Country is Malaysia and year is earlier than 2024\n"
          ]
        }
      ]
    },
    {
      "cell_type": "code",
      "source": [
        "#write a code for finding the even and odd numbers\n",
        "\n",
        "#modulus\n",
        "\n",
        "g = 20\n",
        "h = 13\n",
        "\n",
        "if h%2 == 0:\n",
        "  print (h, 'is even number')\n",
        "\n",
        "elif h%2 !=0:\n",
        "  print (h, 'is odd number')\n",
        "\n",
        "else:\n",
        "  print (h, 'is odd number')"
      ],
      "metadata": {
        "colab": {
          "base_uri": "https://localhost:8080/"
        },
        "id": "6cmG8xprfsMA",
        "outputId": "c36fc0d9-afd0-4f4f-e388-ac9ade6925c8"
      },
      "execution_count": 56,
      "outputs": [
        {
          "output_type": "stream",
          "name": "stdout",
          "text": [
            "13 is odd number\n"
          ]
        }
      ]
    },
    {
      "cell_type": "code",
      "source": [
        "num = 13\n",
        "\n",
        "if num%2 == 0:\n",
        "  print ('The number is even')\n",
        "\n",
        "else:\n",
        "  print ('The number is odd')\n",
        "\n"
      ],
      "metadata": {
        "colab": {
          "base_uri": "https://localhost:8080/"
        },
        "id": "edBllf2vgoqn",
        "outputId": "c8b0a92e-9a92-4f9a-b588-017ae75054be"
      },
      "execution_count": 57,
      "outputs": [
        {
          "output_type": "stream",
          "name": "stdout",
          "text": [
            "The number is odd\n"
          ]
        }
      ]
    },
    {
      "cell_type": "code",
      "source": [
        "input_num = input ('Enter a number:')\n",
        "\n",
        "input_num = int(input_num)\n",
        "\n",
        "if num%2 == 0:\n",
        "  print ('The number is even')\n",
        "\n",
        "else:\n",
        "  print ('The number is odd')\n"
      ],
      "metadata": {
        "colab": {
          "base_uri": "https://localhost:8080/"
        },
        "id": "Fc9cpU7qigdS",
        "outputId": "67618ee2-0b23-485f-b550-86a02bfcfb64"
      },
      "execution_count": 58,
      "outputs": [
        {
          "output_type": "stream",
          "name": "stdout",
          "text": [
            "Enter a number:15\n",
            "The number is odd\n"
          ]
        }
      ]
    },
    {
      "cell_type": "markdown",
      "source": [
        "**Nested if, elif, else**"
      ],
      "metadata": {
        "id": "ojJlpqzBn8PE"
      }
    },
    {
      "cell_type": "code",
      "source": [
        "#nested if,elif, else\n",
        "\n",
        "price = 1000\n",
        "car = 'Proton'\n",
        "\n",
        "if price > 500: #True\n",
        "  if price == 700: #False\n",
        "    print ('The price is more than 700')\n",
        "\n",
        "  else:\n",
        "    if price == 100 or car == 'Proton': #True\n",
        "      print ('Car is Proton')\n",
        "\n",
        "    else:\n",
        "      print ('Price and car are unknown')"
      ],
      "metadata": {
        "colab": {
          "base_uri": "https://localhost:8080/"
        },
        "id": "u3cvaLl6iy38",
        "outputId": "f0d972ff-6916-454e-acb9-64ece9dabb59"
      },
      "execution_count": 59,
      "outputs": [
        {
          "output_type": "stream",
          "name": "stdout",
          "text": [
            "Car is Proton\n"
          ]
        }
      ]
    },
    {
      "cell_type": "code",
      "source": [
        "price = 1000\n",
        "car = 'Proton'\n",
        "\n",
        "if price > 500: #True\n",
        "  if price == 700: #False\n",
        "    print ('The price is more than 700')\n",
        "\n",
        "  else:\n",
        "    if price == 100 or car == 'proton': #False\n",
        "      print ('Car is Proton')\n",
        "\n",
        "    else: #will print this instead\n",
        "      print ('Price and car are unknown')"
      ],
      "metadata": {
        "colab": {
          "base_uri": "https://localhost:8080/"
        },
        "id": "9uIzkzgAkWeA",
        "outputId": "03c38c14-ce3c-44ec-e0a4-623b2543faa5"
      },
      "execution_count": 60,
      "outputs": [
        {
          "output_type": "stream",
          "name": "stdout",
          "text": [
            "Price and car are unknown\n"
          ]
        }
      ]
    },
    {
      "cell_type": "code",
      "source": [
        "price = 1000\n",
        "car = 'Proton'\n",
        "\n",
        "if price > 500: #True\n",
        "  if price == 700: #False\n",
        "    print ('The price is more than 700')\n",
        "\n",
        "  elif price == 100 or car == 'proton': #using elif #false\n",
        "      print ('Car is Proton')\n",
        "\n",
        "  else: #will print this instead\n",
        "      print ('Price and car are unknown')"
      ],
      "metadata": {
        "colab": {
          "base_uri": "https://localhost:8080/"
        },
        "id": "8NaeqOi4mkGT",
        "outputId": "67e38923-47f4-4bba-96de-5272120c1bb9"
      },
      "execution_count": 62,
      "outputs": [
        {
          "output_type": "stream",
          "name": "stdout",
          "text": [
            "Price and car are unknown\n"
          ]
        }
      ]
    },
    {
      "cell_type": "markdown",
      "source": [
        "**Loops and while loop**\n",
        "\n",
        "* the function can be repeated base on the condition"
      ],
      "metadata": {
        "id": "yoor0Xb5ohgM"
      }
    },
    {
      "cell_type": "code",
      "source": [
        "list_num = [100, 200, 300, 400, 500]\n",
        "\n",
        "#manually\n",
        "print (list_num[0])\n",
        "print (list_num[1])\n",
        "print (list_num[2])\n",
        "print (list_num[3])\n",
        "print (list_num[4])"
      ],
      "metadata": {
        "colab": {
          "base_uri": "https://localhost:8080/"
        },
        "id": "b4-V20zmm-cp",
        "outputId": "c42c44c2-585c-4ba6-a95a-5f1d8424cc7a"
      },
      "execution_count": 64,
      "outputs": [
        {
          "output_type": "stream",
          "name": "stdout",
          "text": [
            "100\n",
            "200\n",
            "300\n",
            "400\n",
            "500\n"
          ]
        }
      ]
    },
    {
      "cell_type": "markdown",
      "source": [
        "**For Loop**\n",
        "\n",
        "iterate over item instead of writing it many times"
      ],
      "metadata": {
        "id": "B6qy-KwqpCrf"
      }
    },
    {
      "cell_type": "code",
      "source": [
        "list_num"
      ],
      "metadata": {
        "colab": {
          "base_uri": "https://localhost:8080/"
        },
        "id": "CX80eZIupBut",
        "outputId": "29046a83-caaf-4687-e69e-e5fa9cd35e4e"
      },
      "execution_count": 65,
      "outputs": [
        {
          "output_type": "execute_result",
          "data": {
            "text/plain": [
              "[100, 200, 300, 400, 500]"
            ]
          },
          "metadata": {},
          "execution_count": 65
        }
      ]
    },
    {
      "cell_type": "code",
      "source": [
        "#automotically count according to the list #iterate over item instead of writing it many times\n",
        "\n",
        "for i in list_num: #first loop, 100 then 200, then 300,...\n",
        "  print (i)"
      ],
      "metadata": {
        "colab": {
          "base_uri": "https://localhost:8080/"
        },
        "id": "tQS1TtYUpHy-",
        "outputId": "038d6eec-ccdb-4fe1-90be-f78ccb910436"
      },
      "execution_count": 66,
      "outputs": [
        {
          "output_type": "stream",
          "name": "stdout",
          "text": [
            "100\n",
            "200\n",
            "300\n",
            "400\n",
            "500\n"
          ]
        }
      ]
    },
    {
      "cell_type": "code",
      "source": [
        "#range #between number a to b\n",
        "\n",
        "#count numbers\n",
        "\n",
        "for num in range(1, 10):\n",
        "  print (num)"
      ],
      "metadata": {
        "colab": {
          "base_uri": "https://localhost:8080/"
        },
        "id": "guzynjdXpyKO",
        "outputId": "fbbabbd5-c529-418d-f894-d6d81bd362fb"
      },
      "execution_count": 67,
      "outputs": [
        {
          "output_type": "stream",
          "name": "stdout",
          "text": [
            "1\n",
            "2\n",
            "3\n",
            "4\n",
            "5\n",
            "6\n",
            "7\n",
            "8\n",
            "9\n"
          ]
        }
      ]
    },
    {
      "cell_type": "code",
      "source": [
        "numbers = [1, 2, 3, 4, 5, 6]\n",
        "\n",
        "#write a code to print numbers below 5\n",
        "\n",
        "for num in numbers: #iterate num in the list\n",
        "  if num < 5:       #check condition if num<5\n",
        "    print (num)     #print the num<5"
      ],
      "metadata": {
        "colab": {
          "base_uri": "https://localhost:8080/"
        },
        "id": "s8wne4LEqg_L",
        "outputId": "1f7e11d0-70d0-4356-d43c-c694496900a3"
      },
      "execution_count": 68,
      "outputs": [
        {
          "output_type": "stream",
          "name": "stdout",
          "text": [
            "1\n",
            "2\n",
            "3\n",
            "4\n"
          ]
        }
      ]
    },
    {
      "cell_type": "code",
      "source": [
        "#write a code to print numbers higher than 5\n",
        "\n",
        "for num in numbers: #iterate num in the list\n",
        "  if num > 5:       #check condition if num>5\n",
        "    print (num)     #print the num>5"
      ],
      "metadata": {
        "colab": {
          "base_uri": "https://localhost:8080/"
        },
        "id": "GTNXzFn5rI5P",
        "outputId": "2dc8400f-4c47-402a-fecb-9cae1af5eca5"
      },
      "execution_count": 69,
      "outputs": [
        {
          "output_type": "stream",
          "name": "stdout",
          "text": [
            "6\n"
          ]
        }
      ]
    },
    {
      "cell_type": "code",
      "source": [
        "numbers1 = [-1, 2, 1, 3, 5, 4,0]\n",
        "\n",
        "#write a code to print all the numbers below 5\n",
        "\n",
        "for num in numbers1: #iterate num in the list\n",
        "  if num < 5:       #check condition if num<5\n",
        "    print (num)     #print the num<5"
      ],
      "metadata": {
        "colab": {
          "base_uri": "https://localhost:8080/"
        },
        "id": "MoZ9LPNCrs7t",
        "outputId": "7d22e5db-ceb5-4c88-cfd2-609c637ad88e"
      },
      "execution_count": 72,
      "outputs": [
        {
          "output_type": "stream",
          "name": "stdout",
          "text": [
            "-1\n",
            "2\n",
            "1\n",
            "3\n",
            "4\n",
            "0\n"
          ]
        }
      ]
    },
    {
      "cell_type": "markdown",
      "source": [
        "**Print items in dictionary**"
      ],
      "metadata": {
        "id": "SnPmQXLECTHh"
      }
    },
    {
      "cell_type": "code",
      "source": [
        "d1"
      ],
      "metadata": {
        "colab": {
          "base_uri": "https://localhost:8080/"
        },
        "id": "czzHaKd5DanN",
        "outputId": "582f8aa8-7601-44eb-d25a-1e0743b4b815"
      },
      "execution_count": 78,
      "outputs": [
        {
          "output_type": "execute_result",
          "data": {
            "text/plain": [
              "{'AI': -10, 8.8: ['ML', 'DL']}"
            ]
          },
          "metadata": {},
          "execution_count": 78
        }
      ]
    },
    {
      "cell_type": "code",
      "source": [
        "#print only keys\n",
        "\n",
        "for i in d1:\n",
        "  print (i)"
      ],
      "metadata": {
        "colab": {
          "base_uri": "https://localhost:8080/"
        },
        "id": "YCwN8G2HB1AO",
        "outputId": "15f1e5d1-9772-424b-cfb8-bd0f996fad20"
      },
      "execution_count": 75,
      "outputs": [
        {
          "output_type": "stream",
          "name": "stdout",
          "text": [
            "AI\n",
            "8.8\n"
          ]
        }
      ]
    },
    {
      "cell_type": "code",
      "source": [
        "#print only values\n",
        "\n",
        "for i in d1.values():\n",
        "  print (i)"
      ],
      "metadata": {
        "colab": {
          "base_uri": "https://localhost:8080/"
        },
        "id": "kcmD35ODCmZN",
        "outputId": "5beab089-57a0-43c7-bd8b-68db61ff5c25"
      },
      "execution_count": 76,
      "outputs": [
        {
          "output_type": "stream",
          "name": "stdout",
          "text": [
            "-10\n",
            "['ML', 'DL']\n"
          ]
        }
      ]
    },
    {
      "cell_type": "code",
      "source": [
        "#print both keys and values\n",
        "\n",
        "for i in d1.items():\n",
        "  print (i)\n"
      ],
      "metadata": {
        "colab": {
          "base_uri": "https://localhost:8080/"
        },
        "id": "KKEWeqsoCz7h",
        "outputId": "c236b4cb-d465-4d8b-fe06-ab58fce6780c"
      },
      "execution_count": 77,
      "outputs": [
        {
          "output_type": "stream",
          "name": "stdout",
          "text": [
            "('AI', -10)\n",
            "(8.8, ['ML', 'DL'])\n"
          ]
        }
      ]
    },
    {
      "cell_type": "markdown",
      "source": [
        "**While**\n",
        "\n",
        "* less use than for loop\n",
        "\n"
      ],
      "metadata": {
        "id": "QXrDncT9ETbO"
      }
    },
    {
      "cell_type": "code",
      "source": [
        "numbers = [1, 2, 3, 4, 5, 6]\n",
        "\n",
        "#write a code to print numbers below 5 by using while loop\n",
        "\n",
        "i = 0 #counter base on index #1 #2 #3 #4 #5\n",
        "num = None #checking the condition #1 #2 #3 #4 #5\n",
        "\n",
        "while (num!=5): #True #True #True #True #True #False\n",
        "  num = numbers[i]\n",
        "  i = i+1\n",
        "  print (num)\n"
      ],
      "metadata": {
        "colab": {
          "base_uri": "https://localhost:8080/"
        },
        "id": "s1B2CdYnC--n",
        "outputId": "71e556ae-a398-4be2-eee8-6e9c4fa04626"
      },
      "execution_count": 79,
      "outputs": [
        {
          "output_type": "stream",
          "name": "stdout",
          "text": [
            "1\n",
            "2\n",
            "3\n",
            "4\n",
            "5\n"
          ]
        }
      ]
    },
    {
      "cell_type": "code",
      "source": [
        "#write a code to print numbers below 5 by using while loop\n",
        "\n",
        "i = 0 #counter base on index #1 #2 #3 #4 #5\n",
        "num = None #checking the condition #1 #2 #3 #4 #5\n",
        "\n",
        "while (num!=4): #True #True #True #True #False\n",
        "  num = numbers[i]\n",
        "  i = i+1\n",
        "  print (num)\n"
      ],
      "metadata": {
        "colab": {
          "base_uri": "https://localhost:8080/"
        },
        "id": "FSZtwLyTFFKH",
        "outputId": "397ac998-8f8a-44e6-fa23-407476688c8e"
      },
      "execution_count": 80,
      "outputs": [
        {
          "output_type": "stream",
          "name": "stdout",
          "text": [
            "1\n",
            "2\n",
            "3\n",
            "4\n"
          ]
        }
      ]
    },
    {
      "cell_type": "code",
      "source": [
        "numbers = [1, 2, 3, 4, 5, 6] #if not putting the counter, it will become virus\n",
        "\n",
        "#write a code to print numbers below 4 by using while loop\n",
        "\n",
        "i = 0 #counter base on index #1 #2 #3\n",
        "num = None #checking the condition #1 #2 #3\n",
        "\n",
        "while (num!=3): #True #True #True #False\n",
        "  num = numbers[i]\n",
        "  i = i+1\n",
        "  print (num)"
      ],
      "metadata": {
        "colab": {
          "base_uri": "https://localhost:8080/"
        },
        "id": "anRv3zbCGeri",
        "outputId": "d9fe40f0-ad68-4bbd-c73a-a697489dbec3"
      },
      "execution_count": 81,
      "outputs": [
        {
          "output_type": "stream",
          "name": "stdout",
          "text": [
            "1\n",
            "2\n",
            "3\n"
          ]
        }
      ]
    },
    {
      "cell_type": "code",
      "source": [
        "#nested loops\n",
        "\n",
        "names = ['Mohammed', 'Noor', 'Chyrel']\n",
        "\n",
        "for a in names: #first loop\n",
        "  print (a)     #print index names\n",
        "\n",
        "  for b in (a):   #second loop\n",
        "    print (b)     #print index alphabet in the index names\n",
        "\n",
        "  print ('')      #print space between the index alphabet in the names"
      ],
      "metadata": {
        "colab": {
          "base_uri": "https://localhost:8080/"
        },
        "id": "lJAIktD9INvc",
        "outputId": "068e8143-b079-4b91-d93c-798727bbfe0f"
      },
      "execution_count": 84,
      "outputs": [
        {
          "output_type": "stream",
          "name": "stdout",
          "text": [
            "Mohammed\n",
            "M\n",
            "o\n",
            "h\n",
            "a\n",
            "m\n",
            "m\n",
            "e\n",
            "d\n",
            "\n",
            "Noor\n",
            "N\n",
            "o\n",
            "o\n",
            "r\n",
            "\n",
            "Chyrel\n",
            "C\n",
            "h\n",
            "y\n",
            "r\n",
            "e\n",
            "l\n",
            "\n"
          ]
        }
      ]
    },
    {
      "cell_type": "code",
      "source": [
        "#write a code to print only the even numbers in range of numbers 20\n",
        "\n",
        "for i in range (21):\n",
        "  if i%2 ==0:\n",
        "    print (i)\n",
        ""
      ],
      "metadata": {
        "colab": {
          "base_uri": "https://localhost:8080/"
        },
        "id": "EuFw2QITKWAI",
        "outputId": "0361b60f-b31c-484e-aa81-35f2ebe1fafb"
      },
      "execution_count": 85,
      "outputs": [
        {
          "output_type": "stream",
          "name": "stdout",
          "text": [
            "0\n",
            "2\n",
            "4\n",
            "6\n",
            "8\n",
            "10\n",
            "12\n",
            "14\n",
            "16\n",
            "18\n",
            "20\n"
          ]
        }
      ]
    },
    {
      "cell_type": "code",
      "source": [
        "#create of those even number in a list\n",
        "even_num = []\n",
        "for i in range (21):\n",
        "  if i%2 ==0:\n",
        "    even_num.append (i) #add even num in the list\n",
        "\n",
        "print (even_num) #print the final list"
      ],
      "metadata": {
        "colab": {
          "base_uri": "https://localhost:8080/"
        },
        "id": "kS1Y5pwKODPG",
        "outputId": "67fb3e36-059f-4bcb-e5aa-101ca6fdd909"
      },
      "execution_count": 98,
      "outputs": [
        {
          "output_type": "stream",
          "name": "stdout",
          "text": [
            "[0, 2, 4, 6, 8, 10, 12, 14, 16, 18, 20]\n"
          ]
        }
      ]
    },
    {
      "cell_type": "code",
      "source": [
        "type(even_num)"
      ],
      "metadata": {
        "colab": {
          "base_uri": "https://localhost:8080/"
        },
        "id": "j2FfSl4kOU9t",
        "outputId": "d8c2066b-a1b5-410f-fc67-9737bafa42af"
      },
      "execution_count": 96,
      "outputs": [
        {
          "output_type": "execute_result",
          "data": {
            "text/plain": [
              "list"
            ]
          },
          "metadata": {},
          "execution_count": 96
        }
      ]
    },
    {
      "cell_type": "markdown",
      "source": [
        "**Given a list of numbers, write a code to calculate the sum of even numbers in that list**"
      ],
      "metadata": {
        "id": "oG7BUEG3Q4xZ"
      }
    },
    {
      "cell_type": "code",
      "source": [
        "even_num = []\n",
        "sum = 0\n",
        "\n",
        "for i in range (21):\n",
        "  if i%2 ==0:\n",
        "    even_num.append (i) #add even num in the list\n",
        "    sum = sum + i #add even num in the sum\n",
        "\n",
        "    #print (sum) #add this if want to know how loop work\n",
        "\n",
        "print (even_num) #print the final list\n",
        "print ('The total of even numbers is', sum) #print the total of even numbers"
      ],
      "metadata": {
        "colab": {
          "base_uri": "https://localhost:8080/"
        },
        "id": "z5VZYUGYPV_W",
        "outputId": "c22b4178-ed22-4d11-a170-5d1779790a6a"
      },
      "execution_count": 106,
      "outputs": [
        {
          "output_type": "stream",
          "name": "stdout",
          "text": [
            "[0, 2, 4, 6, 8, 10, 12, 14, 16, 18, 20]\n",
            "The total of even numbers is 110\n"
          ]
        }
      ]
    },
    {
      "cell_type": "code",
      "source": [
        "nlist1 = range (10) #already initialize range\n",
        "sum = 0\n",
        "\n",
        "for i in nlist1:\n",
        "  if i%2 ==0:\n",
        "    sum = sum + i #add even num in the sum\n",
        "\n",
        "print ('The total of even numbers is', sum) #print the total of even numbers"
      ],
      "metadata": {
        "colab": {
          "base_uri": "https://localhost:8080/"
        },
        "id": "--_ivBDESrzg",
        "outputId": "6001324b-036d-4650-b839-3830f6b6e47f"
      },
      "execution_count": 107,
      "outputs": [
        {
          "output_type": "stream",
          "name": "stdout",
          "text": [
            "The total of even numbers is 20\n"
          ]
        }
      ]
    },
    {
      "cell_type": "markdown",
      "source": [
        "**Given a string, write a code to calculate the number of vowels (a,e,i,o,u) in the string**\n",
        "\n",
        "the string is: 'Hello World'"
      ],
      "metadata": {
        "id": "mtnwehbiUQKV"
      }
    },
    {
      "cell_type": "code",
      "source": [
        "string1 = 'Hello World'\n",
        "string2 = 'a,e,i,o,u'\n",
        "sum_vwl = 0\n",
        "\n",
        "for i in string1:\n",
        "  if i in string2:\n",
        "    print (i)\n",
        "\n",
        "    sum_vwl = sum_vwl + 1 #count how many vowels in the string\n",
        "\n",
        "print ('The total of vowels is', sum_vwl )"
      ],
      "metadata": {
        "colab": {
          "base_uri": "https://localhost:8080/"
        },
        "id": "NCI-HKPyTz1a",
        "outputId": "d66d8fab-5590-4d10-bf15-71f37b83cb80"
      },
      "execution_count": 116,
      "outputs": [
        {
          "output_type": "stream",
          "name": "stdout",
          "text": [
            "e\n",
            "o\n",
            "o\n",
            "The total of vowels is 3\n"
          ]
        }
      ]
    },
    {
      "cell_type": "code",
      "source": [
        "string = 'Hello World'\n",
        "count_vowel = 0\n",
        "\n",
        "for vow in string.lower():\n",
        "  if vow in 'aeiou' :\n",
        "    count_vowel += 1\n",
        "\n",
        "print(count_vowel)"
      ],
      "metadata": {
        "colab": {
          "base_uri": "https://localhost:8080/"
        },
        "id": "FYfwoxtNVP5x",
        "outputId": "911bbeff-c527-4337-dcca-22e28d246919"
      },
      "execution_count": 117,
      "outputs": [
        {
          "output_type": "stream",
          "name": "stdout",
          "text": [
            "3\n"
          ]
        }
      ]
    },
    {
      "cell_type": "code",
      "source": [
        "string = 'Artificial Intelligence'\n",
        "count_vowel = 0\n",
        "\n",
        "#don't have to mention any index\n",
        "\n",
        "for vow in string.lower(): #make the string in lower case\n",
        "  if vow in 'aeiou' :\n",
        "    count_vowel += 1\n",
        "\n",
        "    print (vow)\n",
        "\n",
        "print('The number of vowels are:', count_vowel)"
      ],
      "metadata": {
        "colab": {
          "base_uri": "https://localhost:8080/"
        },
        "id": "S4zHhtRfXdKI",
        "outputId": "048a2ed9-b894-407a-f0ad-14f36332595e"
      },
      "execution_count": 120,
      "outputs": [
        {
          "output_type": "stream",
          "name": "stdout",
          "text": [
            "a\n",
            "i\n",
            "i\n",
            "i\n",
            "a\n",
            "i\n",
            "e\n",
            "i\n",
            "e\n",
            "e\n",
            "The number of vowels are: 10\n"
          ]
        }
      ]
    },
    {
      "cell_type": "code",
      "source": [
        "set_a = {1, 3, 5, 7, 8, 9, 10, 11, 12, 13, 14} #actual result\n",
        "set_b = {1, 2, 3, 4, 5, 6, 7, 8, 9, 10, 11} #predicted result\n",
        "\n",
        "set_a.intersection(set_b)"
      ],
      "metadata": {
        "colab": {
          "base_uri": "https://localhost:8080/"
        },
        "id": "wSmIRyXAXqXM",
        "outputId": "337733b2-e8e5-4df0-b35f-ff245272e880"
      },
      "execution_count": 121,
      "outputs": [
        {
          "output_type": "stream",
          "name": "stdout",
          "text": [
            "The number of vowels are: 8\n"
          ]
        }
      ]
    },
    {
      "cell_type": "markdown",
      "source": [
        "***Function***\n",
        "\n",
        "To define a function in Python, use the \"def\" keyword, followed by the function name, parentheses, and a colon. The body of the function is indented and contains the code to be executed when the function is called.\n",
        "\n",
        "def funname(arguments):"
      ],
      "metadata": {
        "id": "7jQKGAdTaKi9"
      }
    },
    {
      "cell_type": "code",
      "source": [
        "def first_fun():\n",
        "  '''\n",
        "  This is my first function\n",
        "  '''\n",
        "  print ('This is my first function') #function body"
      ],
      "metadata": {
        "id": "LQPhAMPtZeLC"
      },
      "execution_count": 125,
      "outputs": []
    },
    {
      "cell_type": "code",
      "source": [
        "first_fun()"
      ],
      "metadata": {
        "colab": {
          "base_uri": "https://localhost:8080/"
        },
        "id": "aEMMtSlhjVF6",
        "outputId": "df5f772c-e4c7-4c62-d868-459258ba9345"
      },
      "execution_count": 126,
      "outputs": [
        {
          "output_type": "stream",
          "name": "stdout",
          "text": [
            "This is my first function\n"
          ]
        }
      ]
    },
    {
      "cell_type": "code",
      "source": [
        "def sum_num(a, b):\n",
        "  '''This function is about summing two numbers'''\n",
        "  c=a+b #can change to int or float but string takleh guna\n",
        "  print (c)\n"
      ],
      "metadata": {
        "id": "Cm8ipuORjfWw"
      },
      "execution_count": 127,
      "outputs": []
    },
    {
      "cell_type": "code",
      "source": [
        "sum_num(10, 5)"
      ],
      "metadata": {
        "colab": {
          "base_uri": "https://localhost:8080/"
        },
        "id": "6z60vMroj5v6",
        "outputId": "bba37c42-74f3-4f1a-985c-4c8171c80cc3"
      },
      "execution_count": 128,
      "outputs": [
        {
          "output_type": "stream",
          "name": "stdout",
          "text": [
            "15\n"
          ]
        }
      ]
    },
    {
      "cell_type": "code",
      "source": [
        "sum_num('Big', ' Data')"
      ],
      "metadata": {
        "colab": {
          "base_uri": "https://localhost:8080/"
        },
        "id": "peqwrrKcj9el",
        "outputId": "b618f6ed-0956-4825-b35b-a16a65144f6f"
      },
      "execution_count": 130,
      "outputs": [
        {
          "output_type": "stream",
          "name": "stdout",
          "text": [
            "Big Data\n"
          ]
        }
      ]
    },
    {
      "cell_type": "code",
      "source": [
        "def multi_num (a, b, c):\n",
        "  '''This function is about multiplying three numbers'''\n",
        "  d = a * b * c\n",
        "  return (d) #print cannot used later #return can be use later\n",
        ""
      ],
      "metadata": {
        "id": "IiBH1fr2kUjq"
      },
      "execution_count": 133,
      "outputs": []
    },
    {
      "cell_type": "code",
      "source": [
        "multi_num(10, 1, 2)"
      ],
      "metadata": {
        "colab": {
          "base_uri": "https://localhost:8080/"
        },
        "id": "m_zmIKRPk-gc",
        "outputId": "9ea013f2-1ac8-4ab3-809c-160a7dba4513"
      },
      "execution_count": 134,
      "outputs": [
        {
          "output_type": "execute_result",
          "data": {
            "text/plain": [
              "20"
            ]
          },
          "metadata": {},
          "execution_count": 134
        }
      ]
    },
    {
      "cell_type": "markdown",
      "source": [
        "*print vs return*\n",
        "\n",
        "To summarize, \"print\" is used to output values to the console for debugging or informational purposes, while \"return\" is used to send a value back from a function to the calling code. If you want to use the result of a function in other parts of your code, you need to use \"return\" to make that value available outside the function.\n",
        "\n",
        "\n",
        "\n",
        "*print just shows the human user a string representing what is going on inside the computer. The computer cannot make use of that printing. return is how a function gives back a value. This value is often unseen by the human user, but it can be used by the computer in further functions.*"
      ],
      "metadata": {
        "id": "Pg6XSYNLlVvT"
      }
    },
    {
      "cell_type": "markdown",
      "source": [
        "Write a function to find the even and odd numbers"
      ],
      "metadata": {
        "id": "ZTdpADOrmoIr"
      }
    },
    {
      "cell_type": "code",
      "source": [
        "def find_even_odd():\n",
        "  input_num = input ('Enter a number:')\n",
        "\n",
        "  input_num = int(input_num)\n",
        "\n",
        "  if num%2 == 0:\n",
        "    print ('The number is even')\n",
        "\n",
        "  else:\n",
        "    print ('The number is odd')"
      ],
      "metadata": {
        "id": "JIYc4KGVnVU4"
      },
      "execution_count": 147,
      "outputs": []
    },
    {
      "cell_type": "code",
      "source": [
        "find_even_odd()"
      ],
      "metadata": {
        "colab": {
          "base_uri": "https://localhost:8080/",
          "height": 141
        },
        "id": "cX-aovn1n9R_",
        "outputId": "864008e1-e750-4c9f-80fd-3a4ef51d6a48"
      },
      "execution_count": 151,
      "outputs": [
        {
          "output_type": "error",
          "ename": "TypeError",
          "evalue": "find_even_odd() missing 1 required positional argument: 'num'",
          "traceback": [
            "\u001b[0;31m---------------------------------------------------------------------------\u001b[0m",
            "\u001b[0;31mTypeError\u001b[0m                                 Traceback (most recent call last)",
            "\u001b[0;32m<ipython-input-151-e482fa87e17e>\u001b[0m in \u001b[0;36m<cell line: 1>\u001b[0;34m()\u001b[0m\n\u001b[0;32m----> 1\u001b[0;31m \u001b[0mfind_even_odd\u001b[0m\u001b[0;34m(\u001b[0m\u001b[0;34m)\u001b[0m\u001b[0;34m\u001b[0m\u001b[0;34m\u001b[0m\u001b[0m\n\u001b[0m",
            "\u001b[0;31mTypeError\u001b[0m: find_even_odd() missing 1 required positional argument: 'num'"
          ]
        }
      ]
    },
    {
      "cell_type": "code",
      "source": [
        "def find_even_odd(num):\n",
        "  #input_num = input ('Enter a number:')\n",
        "\n",
        "  #input_num = int(input_num)\n",
        "\n",
        "  if num%2 == 0:\n",
        "    print ('The number is even')\n",
        "\n",
        "  else:\n",
        "    print ('The number is odd')"
      ],
      "metadata": {
        "id": "Htwz65S1lDHX"
      },
      "execution_count": 149,
      "outputs": []
    },
    {
      "cell_type": "code",
      "source": [
        "find_even_odd (20)"
      ],
      "metadata": {
        "colab": {
          "base_uri": "https://localhost:8080/"
        },
        "id": "y3qPMiOamSgJ",
        "outputId": "6340abc4-e00e-4f28-db61-0d3691542d9c"
      },
      "execution_count": 142,
      "outputs": [
        {
          "output_type": "stream",
          "name": "stdout",
          "text": [
            "The number is even\n"
          ]
        }
      ]
    },
    {
      "cell_type": "code",
      "source": [
        "find_even_odd(13)"
      ],
      "metadata": {
        "colab": {
          "base_uri": "https://localhost:8080/"
        },
        "id": "FM-B13ainC_c",
        "outputId": "c92a16a9-bfd7-438d-803f-8d33e3dd6adb"
      },
      "execution_count": 143,
      "outputs": [
        {
          "output_type": "stream",
          "name": "stdout",
          "text": [
            "The number is odd\n"
          ]
        }
      ]
    },
    {
      "cell_type": "markdown",
      "source": [
        "**write a function to find the highest value in a list without using other functions**"
      ],
      "metadata": {
        "id": "QNwn5iXyoYXl"
      }
    },
    {
      "cell_type": "code",
      "source": [
        "#if not define\n",
        "\n",
        "list_num = [100, 0, 5, 200, -20, 8.8]\n",
        "\n",
        "highest = list_num[0]\n",
        "lowest = list_num[0]\n",
        "\n",
        "for i in list_num:\n",
        "  if i > highest:\n",
        "    highest = i\n",
        "\n",
        "  if i < lowest:\n",
        "    lowest = i\n",
        "\n",
        "print ('The highest value in the list is:', highest)\n",
        "pribt ('The lowest value in the list is:', lowest)"
      ],
      "metadata": {
        "id": "CeiFKqElsK5a"
      },
      "execution_count": null,
      "outputs": []
    },
    {
      "cell_type": "code",
      "source": [
        "def highest_value(list_num1):\n",
        "  highest_value = 0\n",
        "\n",
        "  for i in list_num1:\n",
        "    if i > highest_value:\n",
        "      highest_value = i\n",
        "\n",
        "  return (highest_value)\n"
      ],
      "metadata": {
        "id": "844ME98Any4c"
      },
      "execution_count": 152,
      "outputs": []
    },
    {
      "cell_type": "code",
      "source": [
        "highest_value([100, 200, 0, 60, 50])"
      ],
      "metadata": {
        "colab": {
          "base_uri": "https://localhost:8080/"
        },
        "id": "aTqUL3n6qR_I",
        "outputId": "16623356-13ee-493c-d423-42131f9407ee"
      },
      "execution_count": 153,
      "outputs": [
        {
          "output_type": "execute_result",
          "data": {
            "text/plain": [
              "200"
            ]
          },
          "metadata": {},
          "execution_count": 153
        }
      ]
    },
    {
      "cell_type": "code",
      "source": [
        "def lowest_value(list_num1):\n",
        "  lowest_value = 0\n",
        "\n",
        "  for i in list_num1:\n",
        "    if i < lowest_value:\n",
        "      lowest_value = i\n",
        "\n",
        "  return (lowest_value)"
      ],
      "metadata": {
        "id": "TQU8ZK-zqhlp"
      },
      "execution_count": 154,
      "outputs": []
    },
    {
      "cell_type": "code",
      "source": [
        "lowest_value([100, 200, 0, 60, 50])"
      ],
      "metadata": {
        "colab": {
          "base_uri": "https://localhost:8080/"
        },
        "id": "yKMjethIr2g4",
        "outputId": "087d2098-e0ab-4fb0-c62d-331436b169d9"
      },
      "execution_count": 155,
      "outputs": [
        {
          "output_type": "execute_result",
          "data": {
            "text/plain": [
              "0"
            ]
          },
          "metadata": {},
          "execution_count": 155
        }
      ]
    },
    {
      "cell_type": "code",
      "source": [
        "def max_min(list_num):\n",
        "\n",
        "  highest = list_num[0]\n",
        "  lowest = list_num[0]\n",
        "\n",
        "  for i in list_num:\n",
        "    if i > highest:\n",
        "      highest = i\n",
        "\n",
        "    if i < lowest:\n",
        "      lowest = i\n",
        "\n",
        "  print ('The highest value in the list is:', highest)\n",
        "  print ('The lowest value in the list is:', lowest)"
      ],
      "metadata": {
        "id": "A0djVXckr_tU"
      },
      "execution_count": 163,
      "outputs": []
    },
    {
      "cell_type": "code",
      "source": [
        "max_min([100, 0, 5, 200, -20, 8.8])"
      ],
      "metadata": {
        "colab": {
          "base_uri": "https://localhost:8080/"
        },
        "id": "8351MEITtN9L",
        "outputId": "0f4990a9-ae3a-44d0-c535-331710ad62ab"
      },
      "execution_count": 169,
      "outputs": [
        {
          "output_type": "stream",
          "name": "stdout",
          "text": [
            "The highest value in the list is: 200\n",
            "The lowest value in the list is: -20\n"
          ]
        }
      ]
    },
    {
      "cell_type": "code",
      "source": [
        "list_num_1 = [300, 111, 400, -2, 0, 55, 8.8, -99, 1.5, 44]"
      ],
      "metadata": {
        "id": "sOa1TsoZuWIj"
      },
      "execution_count": 166,
      "outputs": []
    },
    {
      "cell_type": "code",
      "source": [
        "max_min(list_num_1)"
      ],
      "metadata": {
        "colab": {
          "base_uri": "https://localhost:8080/"
        },
        "id": "xEM-91zMvO5X",
        "outputId": "62972751-2f43-41ab-9429-3ddc458dc5e3"
      },
      "execution_count": 168,
      "outputs": [
        {
          "output_type": "stream",
          "name": "stdout",
          "text": [
            "The highest value in the list is: 400\n",
            "The lowest value in the list is: -99\n"
          ]
        }
      ]
    },
    {
      "cell_type": "code",
      "source": [
        "%whos"
      ],
      "metadata": {
        "colab": {
          "base_uri": "https://localhost:8080/"
        },
        "id": "cdT6Jm0BvVhL",
        "outputId": "6d2995d8-4dc3-454d-9c85-4bfb99aed140"
      },
      "execution_count": 170,
      "outputs": [
        {
          "output_type": "stream",
          "name": "stdout",
          "text": [
            "Variable          Type        Data/Info\n",
            "---------------------------------------\n",
            "a                 str         Chyrel\n",
            "b                 str         l\n",
            "car               str         Proton\n",
            "count_vowel       int         8\n",
            "country           str         Malaysia\n",
            "d1                dict        n=2\n",
            "d3                dict        n=2\n",
            "even_num          list        n=11\n",
            "even_numbers      function    <function even_numbers at 0x7a42cb3dc700>\n",
            "find_even_odd     function    <function find_even_odd at 0x7a42cb3dcaf0>\n",
            "first_fun         function    <function first_fun at 0x7a42cb55ea70>\n",
            "first_num         function    <function first_num at 0x7a42cb52fd90>\n",
            "g                 int         20\n",
            "h                 int         13\n",
            "highest_value     function    <function highest_value at 0x7a42cb55e8c0>\n",
            "i                 str         d\n",
            "input_num         int         15\n",
            "list_a            list        n=7\n",
            "list_b            list        n=6\n",
            "list_num          list        n=5\n",
            "list_num_1        list        n=10\n",
            "list_set_list_b   list        n=6\n",
            "lowest_value      function    <function lowest_value at 0x7a42cb3de200>\n",
            "max_min           function    <function max_min at 0x7a42cb3dde10>\n",
            "mlti_num          function    <function mlti_num at 0x7a42cb52fb50>\n",
            "multi_num         function    <function multi_num at 0x7a42cb3dc820>\n",
            "names             list        n=3\n",
            "nlist1            range       range(0, 10)\n",
            "num               int         3\n",
            "numbers           list        n=6\n",
            "numbers1          list        n=7\n",
            "price             int         1000\n",
            "s1                set         {'Data Science', 2.2, 99, 'Python', 8.8}\n",
            "s2                set         {0, 2.2, 99, 20, 5, -10, 10}\n",
            "s3                set         {'ai', 'ML', 'pyhton', 'data', 'big data'}\n",
            "s4                set         {'ai', 'ml', 'pyhton', 'data', 'big data'}\n",
            "s5                set         {'ai', 'ml', 'Big data', <...>abila', 'Data', 'Pyhton'}\n",
            "set_a             set         {1, 3, 5, 7, 8, 9, 10, 11, 12, 13, 14}\n",
            "set_b             set         {1, 2, 3, 4, 5, 6, 7, 8, 9, 10, 11}\n",
            "set_list_a        set         {1, 2, 3, 4, 5}\n",
            "set_list_b        set         {0, 100, 101, 55.6, 88, -99}\n",
            "string            str         Artificial Intelligence\n",
            "string1           str         Hello World\n",
            "string2           str         a,e,i,o,u\n",
            "sum               int         20\n",
            "sum_num           function    <function sum_num at 0x7a42cb3dcd30>\n",
            "sum_vwl           int         3\n",
            "vow               str         e\n",
            "year              int         2024\n"
          ]
        }
      ]
    },
    {
      "cell_type": "markdown",
      "source": [
        "**write a function to sum the even numbers in a list of numbers**"
      ],
      "metadata": {
        "id": "xxniIzNXwPdn"
      }
    },
    {
      "cell_type": "code",
      "source": [
        "def sum_even (list_num2):\n",
        "    sum = 0\n",
        "\n",
        "    for i in list_num2:\n",
        "        if i%2 == 0:\n",
        "          sum = sum + i #add even num in the sum\n",
        "\n",
        "    print ('The total of even numbers is', sum) #print the total of even numbers"
      ],
      "metadata": {
        "id": "u1VLOkC2v5m3"
      },
      "execution_count": 174,
      "outputs": []
    },
    {
      "cell_type": "code",
      "source": [
        "sum_even(list_num_1)"
      ],
      "metadata": {
        "colab": {
          "base_uri": "https://localhost:8080/"
        },
        "id": "IVMMwv3Nw6gO",
        "outputId": "6552178e-8567-4e9e-d8ab-9ccb09fa0ee6"
      },
      "execution_count": 175,
      "outputs": [
        {
          "output_type": "stream",
          "name": "stdout",
          "text": [
            "The total of even numbers is 742\n"
          ]
        }
      ]
    },
    {
      "cell_type": "markdown",
      "source": [
        "Find the missing value in the list below\n",
        "\n",
        "list_missing = [1, 4, 3, 2, 5, 8,7]\n",
        "\n",
        "sort\n",
        "\n",
        "code to check difference between two item (5 + i)\n",
        "\n",
        "sort guna list then for loop, if difference between 2 num"
      ],
      "metadata": {
        "id": "9Uh3quDpxppV"
      }
    },
    {
      "cell_type": "code",
      "source": [
        "list_missing = [1, 4, 3, 2, 5, 8, 7, 10]\n",
        "\n",
        "# Sort the list\n",
        "list_missing.sort()\n",
        "\n",
        "# Initialize an empty list to store missing numbers\n",
        "missing_numbers = []\n",
        "\n",
        "# Iterate through the sorted list and find missing numbers\n",
        "for i in range(len(list_missing) - 1):\n",
        "  current_num = list_missing[i]\n",
        "  next_num = list_missing[i + 1]\n",
        "\n",
        "# If the difference between consecutive numbers is more than 1,\n",
        "# add the missing numbers to the list\n",
        "  if next_num - current_num > 1:\n",
        "      for missing in range(current_num + 1, next_num):\n",
        "          missing_numbers.append(missing)\n",
        "\n",
        "#return missing_numbers\n",
        "print ('The missing number is:', missing_numbers)"
      ],
      "metadata": {
        "colab": {
          "base_uri": "https://localhost:8080/"
        },
        "id": "L91Vjk9IBaSD",
        "outputId": "22c2caff-2529-4321-80f8-da2cc99d1d39"
      },
      "execution_count": 207,
      "outputs": [
        {
          "output_type": "stream",
          "name": "stdout",
          "text": [
            "The missing number is: [6, 9]\n"
          ]
        }
      ]
    },
    {
      "cell_type": "code",
      "source": [
        "def find_missing_numbers(list_missing):\n",
        "   # Sort the list\n",
        "   list_missing.sort()\n",
        "\n",
        "   # Initialize an empty list to store missing numbers\n",
        "   missing_numbers = []\n",
        "\n",
        "   # Iterate through the sorted list and find missing numbers\n",
        "   for i in range(len(list_missing) - 1):\n",
        "      current_num = list_missing[i]\n",
        "      next_num = list_missing[i + 1]\n",
        "\n",
        "   # If the difference between consecutive numbers is more than 1,\n",
        "   # add the missing numbers to the list\n",
        "      if next_num - current_num > 1:\n",
        "          for missing in range(current_num + 1, next_num):\n",
        "              missing_numbers.append(missing)\n",
        "\n",
        "   #return missing_numbers\n",
        "   print ('The missing number is:', missing_numbers)"
      ],
      "metadata": {
        "id": "OdngK20ecT35"
      },
      "execution_count": 2,
      "outputs": []
    },
    {
      "cell_type": "code",
      "source": [
        "list_miss1 = [1, 4, 3, 2, 5, 8, 7, 10, 13]"
      ],
      "metadata": {
        "id": "OemmMRXki4NO"
      },
      "execution_count": 3,
      "outputs": []
    },
    {
      "cell_type": "code",
      "source": [
        "find_missing_numbers(list_miss1)"
      ],
      "metadata": {
        "colab": {
          "base_uri": "https://localhost:8080/"
        },
        "id": "YBw-LzqHdfN3",
        "outputId": "d84cd73c-bab6-4fc5-e410-483d7c03f1dc"
      },
      "execution_count": 4,
      "outputs": [
        {
          "output_type": "stream",
          "name": "stdout",
          "text": [
            "The missing number is: [6, 9, 11, 12]\n"
          ]
        }
      ]
    },
    {
      "cell_type": "code",
      "source": [],
      "metadata": {
        "id": "3YduPsWZdiug"
      },
      "execution_count": null,
      "outputs": []
    }
  ]
}